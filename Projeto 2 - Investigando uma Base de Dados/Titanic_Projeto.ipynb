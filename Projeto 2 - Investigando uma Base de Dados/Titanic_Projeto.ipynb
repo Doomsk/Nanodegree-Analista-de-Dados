{
 "cells": [
  {
   "cell_type": "markdown",
   "metadata": {},
   "source": [
    "# Investigando uma base de dados - Titanic"
   ]
  },
  {
   "cell_type": "markdown",
   "metadata": {},
   "source": [
    "O RMS Titanic foi um navio de passageiros britanico que colidiu com um iceberg em 14 de abril de 1912 e naufragou durante a madrugada do dia seguinte.\n",
    "\n",
    "O conjunto de dados que será explorado nesse projeto tem como objetivo criar e responder algumas perguntas referentes as causas que influenciaram na chance de sobrevivencia dos passageiros.\n",
    "\n",
    "O conjunto de dados possui informações de 891 dos 2224 passageiros que se encontravam no navio no momento do naufrágio."
   ]
  },
  {
   "cell_type": "raw",
   "metadata": {},
   "source": [
    "Primeiramente precisamos identificar os dados que existem no arquivo csv:\n",
    "    \n",
    "Descrição das variaveis:\n",
    "\n",
    "PassengerId - Indicador unico dos passageiros na tabela.\n",
    "Survival - Indica se o passageiro sobreviveu. (0 = Não; 1 = Sim)\n",
    "Pclass - Indica a classe do passageiro. (1 = 1ª Classe; 2 = 2ª Classe; 3 = 3ª Classe)\n",
    "Name - Indica o nome do passageiro.\n",
    "Sex - Indica o genero do passageiro.\n",
    "Age - Indica a idade do passageiro.\n",
    "Sibsp - Indica a quantidade de parentes do passageiro a bordo do Titanic com os seguintes graus de parentesco:\n",
    "        (Irmão, Irmã, meio-irmão, meia-irmã, marido e esposa).\n",
    "Parch - Indica a quantidade de parentes do passageiro a bordo do Titanic com os seguintes graus de parentesco:\n",
    "        (Filhos, filhas, enteados, enteadas, pai e mãe).\n",
    "Ticket - Indica o número do Ticket do passageiro.\n",
    "Dare - Indica o custo da passagem do passageiro.\n",
    "Cabin - Indica a cabine na qual o passageiro se encontrava.\n",
    "Embarked - Indica o local de embarque do passageiro. (C = Cherbourg; Q = Queenstown; S = Southampton)\n",
    "\n",
    "Fonte: https://www.kaggle.com/c/titanic/data"
   ]
  },
  {
   "cell_type": "raw",
   "metadata": {},
   "source": [
    "Vamos responder três perguntas ao longo do projeto, são elas:\n",
    "1 - Gênero foi um fator determinante na decisão de quem deveria sobreviver no naufragio do Titanic?\n",
    "2 - Idade foi um fator determinante na decisão de quem deveria sobreviver no naufrágio do Titanic?\n",
    "3 - Classe social foi um fator determinante no momento de se decidir quem teria maiores chances de sobrevivência?"
   ]
  },
  {
   "cell_type": "code",
   "execution_count": 2,
   "metadata": {
    "collapsed": false
   },
   "outputs": [
    {
     "data": {
      "text/html": [
       "<div>\n",
       "<table border=\"1\" class=\"dataframe\">\n",
       "  <thead>\n",
       "    <tr style=\"text-align: right;\">\n",
       "      <th></th>\n",
       "      <th>PassengerId</th>\n",
       "      <th>Survived</th>\n",
       "      <th>Pclass</th>\n",
       "      <th>Name</th>\n",
       "      <th>Sex</th>\n",
       "      <th>Age</th>\n",
       "      <th>SibSp</th>\n",
       "      <th>Parch</th>\n",
       "      <th>Ticket</th>\n",
       "      <th>Fare</th>\n",
       "      <th>Cabin</th>\n",
       "      <th>Embarked</th>\n",
       "    </tr>\n",
       "  </thead>\n",
       "  <tbody>\n",
       "    <tr>\n",
       "      <th>0</th>\n",
       "      <td>1</td>\n",
       "      <td>0</td>\n",
       "      <td>3</td>\n",
       "      <td>Braund, Mr. Owen Harris</td>\n",
       "      <td>male</td>\n",
       "      <td>22.0</td>\n",
       "      <td>1</td>\n",
       "      <td>0</td>\n",
       "      <td>A/5 21171</td>\n",
       "      <td>7.2500</td>\n",
       "      <td>NaN</td>\n",
       "      <td>S</td>\n",
       "    </tr>\n",
       "    <tr>\n",
       "      <th>1</th>\n",
       "      <td>2</td>\n",
       "      <td>1</td>\n",
       "      <td>1</td>\n",
       "      <td>Cumings, Mrs. John Bradley (Florence Briggs Th...</td>\n",
       "      <td>female</td>\n",
       "      <td>38.0</td>\n",
       "      <td>1</td>\n",
       "      <td>0</td>\n",
       "      <td>PC 17599</td>\n",
       "      <td>71.2833</td>\n",
       "      <td>C85</td>\n",
       "      <td>C</td>\n",
       "    </tr>\n",
       "    <tr>\n",
       "      <th>2</th>\n",
       "      <td>3</td>\n",
       "      <td>1</td>\n",
       "      <td>3</td>\n",
       "      <td>Heikkinen, Miss. Laina</td>\n",
       "      <td>female</td>\n",
       "      <td>26.0</td>\n",
       "      <td>0</td>\n",
       "      <td>0</td>\n",
       "      <td>STON/O2. 3101282</td>\n",
       "      <td>7.9250</td>\n",
       "      <td>NaN</td>\n",
       "      <td>S</td>\n",
       "    </tr>\n",
       "    <tr>\n",
       "      <th>3</th>\n",
       "      <td>4</td>\n",
       "      <td>1</td>\n",
       "      <td>1</td>\n",
       "      <td>Futrelle, Mrs. Jacques Heath (Lily May Peel)</td>\n",
       "      <td>female</td>\n",
       "      <td>35.0</td>\n",
       "      <td>1</td>\n",
       "      <td>0</td>\n",
       "      <td>113803</td>\n",
       "      <td>53.1000</td>\n",
       "      <td>C123</td>\n",
       "      <td>S</td>\n",
       "    </tr>\n",
       "    <tr>\n",
       "      <th>4</th>\n",
       "      <td>5</td>\n",
       "      <td>0</td>\n",
       "      <td>3</td>\n",
       "      <td>Allen, Mr. William Henry</td>\n",
       "      <td>male</td>\n",
       "      <td>35.0</td>\n",
       "      <td>0</td>\n",
       "      <td>0</td>\n",
       "      <td>373450</td>\n",
       "      <td>8.0500</td>\n",
       "      <td>NaN</td>\n",
       "      <td>S</td>\n",
       "    </tr>\n",
       "  </tbody>\n",
       "</table>\n",
       "</div>"
      ],
      "text/plain": [
       "   PassengerId  Survived  Pclass  \\\n",
       "0            1         0       3   \n",
       "1            2         1       1   \n",
       "2            3         1       3   \n",
       "3            4         1       1   \n",
       "4            5         0       3   \n",
       "\n",
       "                                                Name     Sex   Age  SibSp  \\\n",
       "0                            Braund, Mr. Owen Harris    male  22.0      1   \n",
       "1  Cumings, Mrs. John Bradley (Florence Briggs Th...  female  38.0      1   \n",
       "2                             Heikkinen, Miss. Laina  female  26.0      0   \n",
       "3       Futrelle, Mrs. Jacques Heath (Lily May Peel)  female  35.0      1   \n",
       "4                           Allen, Mr. William Henry    male  35.0      0   \n",
       "\n",
       "   Parch            Ticket     Fare Cabin Embarked  \n",
       "0      0         A/5 21171   7.2500   NaN        S  \n",
       "1      0          PC 17599  71.2833   C85        C  \n",
       "2      0  STON/O2. 3101282   7.9250   NaN        S  \n",
       "3      0            113803  53.1000  C123        S  \n",
       "4      0            373450   8.0500   NaN        S  "
      ]
     },
     "execution_count": 2,
     "metadata": {},
     "output_type": "execute_result"
    }
   ],
   "source": [
    "#Vamos importas as bibliotecas e funções que serão usadas ao longo da análise\n",
    "import pandas as pd\n",
    "import numpy as np\n",
    "import matplotlib.pyplot as plt\n",
    "import seaborn as sns\n",
    "%matplotlib inline\n",
    "\n",
    "#Abre arquivo contendo os dados do titanic e os coloca em um data frame\n",
    "titanic = pd.read_csv('titanic_data.csv')\n",
    "#Define o Id do passageiro como o index do dataframe\n",
    "titanic.set_index('PassengerId')\n",
    "titanic.head()"
   ]
  },
  {
   "cell_type": "code",
   "execution_count": 3,
   "metadata": {
    "collapsed": false
   },
   "outputs": [
    {
     "data": {
      "text/html": [
       "<div>\n",
       "<table border=\"1\" class=\"dataframe\">\n",
       "  <thead>\n",
       "    <tr style=\"text-align: right;\">\n",
       "      <th></th>\n",
       "      <th>PassengerId</th>\n",
       "      <th>Survived</th>\n",
       "      <th>Pclass</th>\n",
       "      <th>Age</th>\n",
       "      <th>SibSp</th>\n",
       "      <th>Parch</th>\n",
       "      <th>Fare</th>\n",
       "    </tr>\n",
       "  </thead>\n",
       "  <tbody>\n",
       "    <tr>\n",
       "      <th>count</th>\n",
       "      <td>891.000000</td>\n",
       "      <td>891.000000</td>\n",
       "      <td>891.000000</td>\n",
       "      <td>714.000000</td>\n",
       "      <td>891.000000</td>\n",
       "      <td>891.000000</td>\n",
       "      <td>891.000000</td>\n",
       "    </tr>\n",
       "    <tr>\n",
       "      <th>mean</th>\n",
       "      <td>446.000000</td>\n",
       "      <td>0.383838</td>\n",
       "      <td>2.308642</td>\n",
       "      <td>29.699118</td>\n",
       "      <td>0.523008</td>\n",
       "      <td>0.381594</td>\n",
       "      <td>32.204208</td>\n",
       "    </tr>\n",
       "    <tr>\n",
       "      <th>std</th>\n",
       "      <td>257.353842</td>\n",
       "      <td>0.486592</td>\n",
       "      <td>0.836071</td>\n",
       "      <td>14.526497</td>\n",
       "      <td>1.102743</td>\n",
       "      <td>0.806057</td>\n",
       "      <td>49.693429</td>\n",
       "    </tr>\n",
       "    <tr>\n",
       "      <th>min</th>\n",
       "      <td>1.000000</td>\n",
       "      <td>0.000000</td>\n",
       "      <td>1.000000</td>\n",
       "      <td>0.420000</td>\n",
       "      <td>0.000000</td>\n",
       "      <td>0.000000</td>\n",
       "      <td>0.000000</td>\n",
       "    </tr>\n",
       "    <tr>\n",
       "      <th>25%</th>\n",
       "      <td>223.500000</td>\n",
       "      <td>0.000000</td>\n",
       "      <td>2.000000</td>\n",
       "      <td>20.125000</td>\n",
       "      <td>0.000000</td>\n",
       "      <td>0.000000</td>\n",
       "      <td>7.910400</td>\n",
       "    </tr>\n",
       "    <tr>\n",
       "      <th>50%</th>\n",
       "      <td>446.000000</td>\n",
       "      <td>0.000000</td>\n",
       "      <td>3.000000</td>\n",
       "      <td>28.000000</td>\n",
       "      <td>0.000000</td>\n",
       "      <td>0.000000</td>\n",
       "      <td>14.454200</td>\n",
       "    </tr>\n",
       "    <tr>\n",
       "      <th>75%</th>\n",
       "      <td>668.500000</td>\n",
       "      <td>1.000000</td>\n",
       "      <td>3.000000</td>\n",
       "      <td>38.000000</td>\n",
       "      <td>1.000000</td>\n",
       "      <td>0.000000</td>\n",
       "      <td>31.000000</td>\n",
       "    </tr>\n",
       "    <tr>\n",
       "      <th>max</th>\n",
       "      <td>891.000000</td>\n",
       "      <td>1.000000</td>\n",
       "      <td>3.000000</td>\n",
       "      <td>80.000000</td>\n",
       "      <td>8.000000</td>\n",
       "      <td>6.000000</td>\n",
       "      <td>512.329200</td>\n",
       "    </tr>\n",
       "  </tbody>\n",
       "</table>\n",
       "</div>"
      ],
      "text/plain": [
       "       PassengerId    Survived      Pclass         Age       SibSp  \\\n",
       "count   891.000000  891.000000  891.000000  714.000000  891.000000   \n",
       "mean    446.000000    0.383838    2.308642   29.699118    0.523008   \n",
       "std     257.353842    0.486592    0.836071   14.526497    1.102743   \n",
       "min       1.000000    0.000000    1.000000    0.420000    0.000000   \n",
       "25%     223.500000    0.000000    2.000000   20.125000    0.000000   \n",
       "50%     446.000000    0.000000    3.000000   28.000000    0.000000   \n",
       "75%     668.500000    1.000000    3.000000   38.000000    1.000000   \n",
       "max     891.000000    1.000000    3.000000   80.000000    8.000000   \n",
       "\n",
       "            Parch        Fare  \n",
       "count  891.000000  891.000000  \n",
       "mean     0.381594   32.204208  \n",
       "std      0.806057   49.693429  \n",
       "min      0.000000    0.000000  \n",
       "25%      0.000000    7.910400  \n",
       "50%      0.000000   14.454200  \n",
       "75%      0.000000   31.000000  \n",
       "max      6.000000  512.329200  "
      ]
     },
     "execution_count": 3,
     "metadata": {},
     "output_type": "execute_result"
    }
   ],
   "source": [
    "#Exibindo algumas informações sobre os dados numericos\n",
    "titanic.describe()"
   ]
  },
  {
   "cell_type": "markdown",
   "metadata": {},
   "source": [
    "Com as informações acima já encontramos um problema, nos dados, nem todos os passageiros descritos possuem idade registrada, mais precisamente, 177 passageiros na base de dados, não possuem idade definida no conjunto de dados, o que pode nos atrapalhar na hora de definir se a idade dos tripulantes foi um fator importante para a sobrevivencia dos mesmos.\n",
    "\n",
    "Por tanto iremos realizar a limpeza dos dados.\n",
    "\n",
    "Bom, a primeira atitude que podemos usar para tentar corrigir os dados é verificar os titulos dos passageiros, dentre os titúlos existe o título 'Master' que de acordo com o livro \"Honor & Respect - The Official Guide to Names, \n",
    "Titles, and Forms of Address\" é a forma utilizada para se descrever crianças jovens demais (até 12 anos) para serem chamadas de 'Mister'.\n",
    "\n",
    "Por tanto vamos verificar todos os passageiros com titulo de Master.\n",
    "\n",
    "Fonte:\n",
    "http://www.formsofaddress.info/Children.html"
   ]
  },
  {
   "cell_type": "code",
   "execution_count": 4,
   "metadata": {
    "collapsed": false
   },
   "outputs": [
    {
     "name": "stdout",
     "output_type": "stream",
     "text": [
      "40\n",
      "37\n",
      "1\n"
     ]
    }
   ],
   "source": [
    "#Vamos verificar primeiramento todos os passageiros com titulo Master\n",
    "print len(titanic[titanic.Name.str.contains(\"Master\")])\n",
    "\n",
    "#Vamos verificar agora todos os passageiros com menos de 12 anos do sexo masculino\n",
    "male_Passenger=titanic[titanic.Sex == 'male']\n",
    "print len(male_Passenger[male_Passenger.Age <= 12])\n",
    "\n",
    "#E vamos verificar quantas crianças do sexo masculino com menos de 12 anos não possuem o titulo Master\n",
    "not_master = titanic[titanic.Sex == 'male']\n",
    "not_master = not_master[not_master.Name.str.contains(\"Master\")==False]\n",
    "print len (not_master[not_master.Age<=12])"
   ]
  },
  {
   "cell_type": "markdown",
   "metadata": {},
   "source": [
    "Estes número indicam que existem pelo menos três passageiros com no máximo 12 anos, sem idade definida no conjunto de dados, para a análise que pretendemos realizar, onde separaremos adultos de crianças considerando a idade como 12 anos, podemos definir a idade destes garotos como sendo 12 anos."
   ]
  },
  {
   "cell_type": "code",
   "execution_count": 5,
   "metadata": {
    "collapsed": false
   },
   "outputs": [],
   "source": [
    "#Vamos encontrar os registros de crianças do sexo masculino que não possuem idade.\n",
    "not_age = titanic[titanic.Sex == 'male']\n",
    "not_age = not_age[not_age.Name.str.contains(\"Master\")]\n",
    "not_age = not_age[not_age.Age.isnull()]\n",
    "#E vamos substituir as idades deles por 12 anos, para que continuem sendo considerados crianças\n",
    "not_age.fillna(value=12, inplace=True)\n",
    "\n",
    "#Enfim, vamos remover os registros originais e adicionar os registros com as idades modificadas\n",
    "titanic = titanic.drop(titanic.index[[not_age.index]])\n",
    "titanic=titanic.append(not_age)"
   ]
  },
  {
   "cell_type": "code",
   "execution_count": 6,
   "metadata": {
    "collapsed": false
   },
   "outputs": [
    {
     "name": "stdout",
     "output_type": "stream",
     "text": [
      "41\n"
     ]
    },
    {
     "data": {
      "text/html": [
       "<div>\n",
       "<table border=\"1\" class=\"dataframe\">\n",
       "  <thead>\n",
       "    <tr style=\"text-align: right;\">\n",
       "      <th></th>\n",
       "      <th>PassengerId</th>\n",
       "      <th>Survived</th>\n",
       "      <th>Pclass</th>\n",
       "      <th>Age</th>\n",
       "      <th>SibSp</th>\n",
       "      <th>Parch</th>\n",
       "      <th>Fare</th>\n",
       "    </tr>\n",
       "  </thead>\n",
       "  <tbody>\n",
       "    <tr>\n",
       "      <th>count</th>\n",
       "      <td>891.000000</td>\n",
       "      <td>891.000000</td>\n",
       "      <td>891.000000</td>\n",
       "      <td>718.000000</td>\n",
       "      <td>891.000000</td>\n",
       "      <td>891.000000</td>\n",
       "      <td>891.000000</td>\n",
       "    </tr>\n",
       "    <tr>\n",
       "      <th>mean</th>\n",
       "      <td>446.000000</td>\n",
       "      <td>0.383838</td>\n",
       "      <td>2.308642</td>\n",
       "      <td>29.600515</td>\n",
       "      <td>0.523008</td>\n",
       "      <td>0.381594</td>\n",
       "      <td>32.204208</td>\n",
       "    </tr>\n",
       "    <tr>\n",
       "      <th>std</th>\n",
       "      <td>257.353842</td>\n",
       "      <td>0.486592</td>\n",
       "      <td>0.836071</td>\n",
       "      <td>14.545782</td>\n",
       "      <td>1.102743</td>\n",
       "      <td>0.806057</td>\n",
       "      <td>49.693429</td>\n",
       "    </tr>\n",
       "    <tr>\n",
       "      <th>min</th>\n",
       "      <td>1.000000</td>\n",
       "      <td>0.000000</td>\n",
       "      <td>1.000000</td>\n",
       "      <td>0.420000</td>\n",
       "      <td>0.000000</td>\n",
       "      <td>0.000000</td>\n",
       "      <td>0.000000</td>\n",
       "    </tr>\n",
       "    <tr>\n",
       "      <th>25%</th>\n",
       "      <td>223.500000</td>\n",
       "      <td>0.000000</td>\n",
       "      <td>2.000000</td>\n",
       "      <td>20.000000</td>\n",
       "      <td>0.000000</td>\n",
       "      <td>0.000000</td>\n",
       "      <td>7.910400</td>\n",
       "    </tr>\n",
       "    <tr>\n",
       "      <th>50%</th>\n",
       "      <td>446.000000</td>\n",
       "      <td>0.000000</td>\n",
       "      <td>3.000000</td>\n",
       "      <td>28.000000</td>\n",
       "      <td>0.000000</td>\n",
       "      <td>0.000000</td>\n",
       "      <td>14.454200</td>\n",
       "    </tr>\n",
       "    <tr>\n",
       "      <th>75%</th>\n",
       "      <td>668.500000</td>\n",
       "      <td>1.000000</td>\n",
       "      <td>3.000000</td>\n",
       "      <td>38.000000</td>\n",
       "      <td>1.000000</td>\n",
       "      <td>0.000000</td>\n",
       "      <td>31.000000</td>\n",
       "    </tr>\n",
       "    <tr>\n",
       "      <th>max</th>\n",
       "      <td>891.000000</td>\n",
       "      <td>1.000000</td>\n",
       "      <td>3.000000</td>\n",
       "      <td>80.000000</td>\n",
       "      <td>8.000000</td>\n",
       "      <td>6.000000</td>\n",
       "      <td>512.329200</td>\n",
       "    </tr>\n",
       "  </tbody>\n",
       "</table>\n",
       "</div>"
      ],
      "text/plain": [
       "       PassengerId    Survived      Pclass         Age       SibSp  \\\n",
       "count   891.000000  891.000000  891.000000  718.000000  891.000000   \n",
       "mean    446.000000    0.383838    2.308642   29.600515    0.523008   \n",
       "std     257.353842    0.486592    0.836071   14.545782    1.102743   \n",
       "min       1.000000    0.000000    1.000000    0.420000    0.000000   \n",
       "25%     223.500000    0.000000    2.000000   20.000000    0.000000   \n",
       "50%     446.000000    0.000000    3.000000   28.000000    0.000000   \n",
       "75%     668.500000    1.000000    3.000000   38.000000    1.000000   \n",
       "max     891.000000    1.000000    3.000000   80.000000    8.000000   \n",
       "\n",
       "            Parch        Fare  \n",
       "count  891.000000  891.000000  \n",
       "mean     0.381594   32.204208  \n",
       "std      0.806057   49.693429  \n",
       "min      0.000000    0.000000  \n",
       "25%      0.000000    7.910400  \n",
       "50%      0.000000   14.454200  \n",
       "75%      0.000000   31.000000  \n",
       "max      6.000000  512.329200  "
      ]
     },
     "execution_count": 6,
     "metadata": {},
     "output_type": "execute_result"
    }
   ],
   "source": [
    "#Se verificarmos agora, vemos que o registro conta com 41 menores de 12 anos, o que é equivalente aos 40 com titulo \n",
    "#'Master' mais o registro de um passageiro do sexo masculino com idade menor que 11 anos e sem o titulo.\n",
    "male_Passenger=titanic[titanic.Sex == 'male']\n",
    "print len(male_Passenger[male_Passenger.Age <= 12])\n",
    "\n",
    "#Vamos executar novamente a função de descrição para garantir que continuamos com 891 PassengerIds, mas agora devemos \n",
    "#ter 718 idades, afinal, adicionamos 4 idades ao conjunto\n",
    "titanic.describe()"
   ]
  },
  {
   "cell_type": "code",
   "execution_count": 7,
   "metadata": {
    "collapsed": false
   },
   "outputs": [
    {
     "data": {
      "text/html": [
       "<div>\n",
       "<table border=\"1\" class=\"dataframe\">\n",
       "  <thead>\n",
       "    <tr style=\"text-align: right;\">\n",
       "      <th></th>\n",
       "      <th>PassengerId</th>\n",
       "      <th>Survived</th>\n",
       "      <th>Pclass</th>\n",
       "      <th>Age</th>\n",
       "      <th>SibSp</th>\n",
       "      <th>Parch</th>\n",
       "      <th>Fare</th>\n",
       "    </tr>\n",
       "  </thead>\n",
       "  <tbody>\n",
       "    <tr>\n",
       "      <th>count</th>\n",
       "      <td>891.000000</td>\n",
       "      <td>891.000000</td>\n",
       "      <td>891.000000</td>\n",
       "      <td>891.000000</td>\n",
       "      <td>891.000000</td>\n",
       "      <td>891.000000</td>\n",
       "      <td>891.000000</td>\n",
       "    </tr>\n",
       "    <tr>\n",
       "      <th>mean</th>\n",
       "      <td>446.000000</td>\n",
       "      <td>0.383838</td>\n",
       "      <td>2.308642</td>\n",
       "      <td>29.600515</td>\n",
       "      <td>0.523008</td>\n",
       "      <td>0.381594</td>\n",
       "      <td>32.204208</td>\n",
       "    </tr>\n",
       "    <tr>\n",
       "      <th>std</th>\n",
       "      <td>257.353842</td>\n",
       "      <td>0.486592</td>\n",
       "      <td>0.836071</td>\n",
       "      <td>13.055744</td>\n",
       "      <td>1.102743</td>\n",
       "      <td>0.806057</td>\n",
       "      <td>49.693429</td>\n",
       "    </tr>\n",
       "    <tr>\n",
       "      <th>min</th>\n",
       "      <td>1.000000</td>\n",
       "      <td>0.000000</td>\n",
       "      <td>1.000000</td>\n",
       "      <td>0.420000</td>\n",
       "      <td>0.000000</td>\n",
       "      <td>0.000000</td>\n",
       "      <td>0.000000</td>\n",
       "    </tr>\n",
       "    <tr>\n",
       "      <th>25%</th>\n",
       "      <td>223.500000</td>\n",
       "      <td>0.000000</td>\n",
       "      <td>2.000000</td>\n",
       "      <td>22.000000</td>\n",
       "      <td>0.000000</td>\n",
       "      <td>0.000000</td>\n",
       "      <td>7.910400</td>\n",
       "    </tr>\n",
       "    <tr>\n",
       "      <th>50%</th>\n",
       "      <td>446.000000</td>\n",
       "      <td>0.000000</td>\n",
       "      <td>3.000000</td>\n",
       "      <td>29.600515</td>\n",
       "      <td>0.000000</td>\n",
       "      <td>0.000000</td>\n",
       "      <td>14.454200</td>\n",
       "    </tr>\n",
       "    <tr>\n",
       "      <th>75%</th>\n",
       "      <td>668.500000</td>\n",
       "      <td>1.000000</td>\n",
       "      <td>3.000000</td>\n",
       "      <td>35.000000</td>\n",
       "      <td>1.000000</td>\n",
       "      <td>0.000000</td>\n",
       "      <td>31.000000</td>\n",
       "    </tr>\n",
       "    <tr>\n",
       "      <th>max</th>\n",
       "      <td>891.000000</td>\n",
       "      <td>1.000000</td>\n",
       "      <td>3.000000</td>\n",
       "      <td>80.000000</td>\n",
       "      <td>8.000000</td>\n",
       "      <td>6.000000</td>\n",
       "      <td>512.329200</td>\n",
       "    </tr>\n",
       "  </tbody>\n",
       "</table>\n",
       "</div>"
      ],
      "text/plain": [
       "       PassengerId    Survived      Pclass         Age       SibSp  \\\n",
       "count   891.000000  891.000000  891.000000  891.000000  891.000000   \n",
       "mean    446.000000    0.383838    2.308642   29.600515    0.523008   \n",
       "std     257.353842    0.486592    0.836071   13.055744    1.102743   \n",
       "min       1.000000    0.000000    1.000000    0.420000    0.000000   \n",
       "25%     223.500000    0.000000    2.000000   22.000000    0.000000   \n",
       "50%     446.000000    0.000000    3.000000   29.600515    0.000000   \n",
       "75%     668.500000    1.000000    3.000000   35.000000    1.000000   \n",
       "max     891.000000    1.000000    3.000000   80.000000    8.000000   \n",
       "\n",
       "            Parch        Fare  \n",
       "count  891.000000  891.000000  \n",
       "mean     0.381594   32.204208  \n",
       "std      0.806057   49.693429  \n",
       "min      0.000000    0.000000  \n",
       "25%      0.000000    7.910400  \n",
       "50%      0.000000   14.454200  \n",
       "75%      0.000000   31.000000  \n",
       "max      6.000000  512.329200  "
      ]
     },
     "execution_count": 7,
     "metadata": {},
     "output_type": "execute_result"
    }
   ],
   "source": [
    "#Vamos agora substituir as demais idades faltantes pela média atual de idades para não termos perda de consistencia na \n",
    "#consistencia dos dados no momento:\n",
    "titanic = titanic.fillna(titanic['Age'].mean())\n",
    "\n",
    "#Então tiraremos novamente alguns dados sobre as tabelas para garantir que com exceção da idade, eles permanecem iguais\n",
    "titanic.describe()"
   ]
  },
  {
   "cell_type": "code",
   "execution_count": 8,
   "metadata": {
    "collapsed": false
   },
   "outputs": [
    {
     "data": {
      "text/html": [
       "<div>\n",
       "<table border=\"1\" class=\"dataframe\">\n",
       "  <thead>\n",
       "    <tr style=\"text-align: right;\">\n",
       "      <th></th>\n",
       "      <th>PassengerId</th>\n",
       "      <th>Survived</th>\n",
       "      <th>Pclass</th>\n",
       "      <th>Age</th>\n",
       "      <th>Sex</th>\n",
       "    </tr>\n",
       "  </thead>\n",
       "  <tbody>\n",
       "    <tr>\n",
       "      <th>0</th>\n",
       "      <td>1</td>\n",
       "      <td>0</td>\n",
       "      <td>3</td>\n",
       "      <td>22.0</td>\n",
       "      <td>male</td>\n",
       "    </tr>\n",
       "    <tr>\n",
       "      <th>1</th>\n",
       "      <td>2</td>\n",
       "      <td>1</td>\n",
       "      <td>1</td>\n",
       "      <td>38.0</td>\n",
       "      <td>female</td>\n",
       "    </tr>\n",
       "    <tr>\n",
       "      <th>2</th>\n",
       "      <td>3</td>\n",
       "      <td>1</td>\n",
       "      <td>3</td>\n",
       "      <td>26.0</td>\n",
       "      <td>female</td>\n",
       "    </tr>\n",
       "    <tr>\n",
       "      <th>3</th>\n",
       "      <td>4</td>\n",
       "      <td>1</td>\n",
       "      <td>1</td>\n",
       "      <td>35.0</td>\n",
       "      <td>female</td>\n",
       "    </tr>\n",
       "    <tr>\n",
       "      <th>4</th>\n",
       "      <td>5</td>\n",
       "      <td>0</td>\n",
       "      <td>3</td>\n",
       "      <td>35.0</td>\n",
       "      <td>male</td>\n",
       "    </tr>\n",
       "  </tbody>\n",
       "</table>\n",
       "</div>"
      ],
      "text/plain": [
       "   PassengerId  Survived  Pclass   Age     Sex\n",
       "0            1         0       3  22.0    male\n",
       "1            2         1       1  38.0  female\n",
       "2            3         1       3  26.0  female\n",
       "3            4         1       1  35.0  female\n",
       "4            5         0       3  35.0    male"
      ]
     },
     "execution_count": 8,
     "metadata": {},
     "output_type": "execute_result"
    }
   ],
   "source": [
    "#E para finalizar a limpeza de dados removeremos as tabelas que não serão mais utilizadas no projeto\n",
    "titanic = titanic.ix[:, ['PassengerId','Survived', 'Pclass', 'Age', 'Sex']]\n",
    "\n",
    "#Exibimos o conjunto de dados como se encontra no momento\n",
    "titanic.head()"
   ]
  },
  {
   "cell_type": "markdown",
   "metadata": {},
   "source": [
    "Agora possuimos um conjunto de dados apenas contendo os dados que iremos utilizar na análise."
   ]
  },
  {
   "cell_type": "markdown",
   "metadata": {},
   "source": [
    "Para iniciar a verificação, vamos avaliar uma lei maritma não oficial muito conhecida que em situações de desastre iminente, é dada prioridade de se salvar 'Mulheres e crianças'. \n",
    "\n",
    "Vamos analisar se essa lei de fato influenciou na decisão de quem deveria ser resgatado durante o naufragio do Titanic."
   ]
  },
  {
   "cell_type": "code",
   "execution_count": 9,
   "metadata": {
    "collapsed": false
   },
   "outputs": [],
   "source": [
    "def barGraph(df, h):\n",
    "    \"\"\"Função para gerar gráficos de barras\"\"\"\n",
    "    sns.set(style=\"white\")\n",
    "\n",
    "    #Definimos aqui o range de valores que seram exibidos no grafico (0 - Para não sobreviventes / 1 - Para sobreviventes)\n",
    "    survived = np.arange(0, 2)\n",
    "\n",
    "    #Criamos o gráfico separando os sobreviventes pelas caracteristicas que desejamos ter no gráfico\n",
    "    g = sns.factorplot(x=\"Survived\", data=df, hue=h,kind=\"count\",\n",
    "                       palette=\"BuPu\", size=5, aspect=1, order=survived)\n",
    "\n",
    "    #Retorna o gráfico cos valores no eixo X sendo exibidos de 1 em 1\n",
    "    return g.set_xticklabels(step=1)\n",
    "\n",
    "def kdeGraph(df,h):\n",
    "    \"\"\"Função para criar gráficos de linhas por idade\"\"\"\n",
    "    sns.set(style=\"white\")\n",
    "\n",
    "    #Definimos o gráfico separando os sobreviventes pelas caracteristicas que desejamos no gráfico\n",
    "    graph = sns.FacetGrid(df,hue=h,aspect=3)\n",
    "\n",
    "    #Define a divisão dos passageiros através da idade no eixo x\n",
    "    graph.map(sns.kdeplot,'Age',shade='True')\n",
    "\n",
    "    #Determina a extensão do eixo x no gráfico, para ir dos passageiros de menor idade, até o mais velho\n",
    "    graph.set(xlim=(0,df['Age'].max()))\n",
    "    graph.add_legend()\n",
    "    return graph"
   ]
  },
  {
   "cell_type": "markdown",
   "metadata": {},
   "source": [
    "# 1 - Gênero foi um fator determinante na decisão de quem deveria sobreviver no naufragio do Titanic?"
   ]
  },
  {
   "cell_type": "markdown",
   "metadata": {},
   "source": [
    "Para responde essa pergunta, vamos verificar a quantidade de sobreviventes do sexo masculino e comparar com a quantidade de sobreviventes do sexo feminino."
   ]
  },
  {
   "cell_type": "code",
   "execution_count": 10,
   "metadata": {
    "collapsed": false
   },
   "outputs": [
    {
     "data": {
      "text/html": [
       "<div>\n",
       "<table border=\"1\" class=\"dataframe\">\n",
       "  <thead>\n",
       "    <tr style=\"text-align: right;\">\n",
       "      <th></th>\n",
       "      <th></th>\n",
       "      <th>PassengerId</th>\n",
       "    </tr>\n",
       "    <tr>\n",
       "      <th>Sex</th>\n",
       "      <th>Survived</th>\n",
       "      <th></th>\n",
       "    </tr>\n",
       "  </thead>\n",
       "  <tbody>\n",
       "    <tr>\n",
       "      <th rowspan=\"2\" valign=\"top\">female</th>\n",
       "      <th>0</th>\n",
       "      <td>81</td>\n",
       "    </tr>\n",
       "    <tr>\n",
       "      <th>1</th>\n",
       "      <td>233</td>\n",
       "    </tr>\n",
       "    <tr>\n",
       "      <th rowspan=\"2\" valign=\"top\">male</th>\n",
       "      <th>0</th>\n",
       "      <td>468</td>\n",
       "    </tr>\n",
       "    <tr>\n",
       "      <th>1</th>\n",
       "      <td>109</td>\n",
       "    </tr>\n",
       "  </tbody>\n",
       "</table>\n",
       "</div>"
      ],
      "text/plain": [
       "                 PassengerId\n",
       "Sex    Survived             \n",
       "female 0                  81\n",
       "       1                 233\n",
       "male   0                 468\n",
       "       1                 109"
      ]
     },
     "execution_count": 10,
     "metadata": {},
     "output_type": "execute_result"
    }
   ],
   "source": [
    "#Vamos criar um conjunto de dados contendo o gênero, o identificador do passageiro e a informação se o mesmo \n",
    "#sobreviveu ou não para facilitar a visualização\n",
    "gender_by_survival=(titanic.ix[:, ['Sex', 'Survived', 'PassengerId']])\n",
    "\n",
    "#Em seguida vamos exibir os dados de forma organizada para exibir quantos passageiros de cada sexo sobreviveram\n",
    "gender_by_survival.groupby(['Sex','Survived']).count()"
   ]
  },
  {
   "cell_type": "code",
   "execution_count": 11,
   "metadata": {
    "collapsed": false
   },
   "outputs": [
    {
     "data": {
      "text/html": [
       "<div>\n",
       "<table border=\"1\" class=\"dataframe\">\n",
       "  <thead>\n",
       "    <tr style=\"text-align: right;\">\n",
       "      <th></th>\n",
       "      <th></th>\n",
       "      <th>PassengerId</th>\n",
       "      <th>Survived</th>\n",
       "    </tr>\n",
       "    <tr>\n",
       "      <th>Sex</th>\n",
       "      <th></th>\n",
       "      <th></th>\n",
       "      <th></th>\n",
       "    </tr>\n",
       "  </thead>\n",
       "  <tbody>\n",
       "    <tr>\n",
       "      <th rowspan=\"8\" valign=\"top\">female</th>\n",
       "      <th>count</th>\n",
       "      <td>314.000000</td>\n",
       "      <td>314.000000</td>\n",
       "    </tr>\n",
       "    <tr>\n",
       "      <th>mean</th>\n",
       "      <td>431.028662</td>\n",
       "      <td>0.742038</td>\n",
       "    </tr>\n",
       "    <tr>\n",
       "      <th>std</th>\n",
       "      <td>256.846324</td>\n",
       "      <td>0.438211</td>\n",
       "    </tr>\n",
       "    <tr>\n",
       "      <th>min</th>\n",
       "      <td>2.000000</td>\n",
       "      <td>0.000000</td>\n",
       "    </tr>\n",
       "    <tr>\n",
       "      <th>25%</th>\n",
       "      <td>231.750000</td>\n",
       "      <td>0.000000</td>\n",
       "    </tr>\n",
       "    <tr>\n",
       "      <th>50%</th>\n",
       "      <td>414.500000</td>\n",
       "      <td>1.000000</td>\n",
       "    </tr>\n",
       "    <tr>\n",
       "      <th>75%</th>\n",
       "      <td>641.250000</td>\n",
       "      <td>1.000000</td>\n",
       "    </tr>\n",
       "    <tr>\n",
       "      <th>max</th>\n",
       "      <td>889.000000</td>\n",
       "      <td>1.000000</td>\n",
       "    </tr>\n",
       "    <tr>\n",
       "      <th rowspan=\"8\" valign=\"top\">male</th>\n",
       "      <th>count</th>\n",
       "      <td>577.000000</td>\n",
       "      <td>577.000000</td>\n",
       "    </tr>\n",
       "    <tr>\n",
       "      <th>mean</th>\n",
       "      <td>454.147314</td>\n",
       "      <td>0.188908</td>\n",
       "    </tr>\n",
       "    <tr>\n",
       "      <th>std</th>\n",
       "      <td>257.486139</td>\n",
       "      <td>0.391775</td>\n",
       "    </tr>\n",
       "    <tr>\n",
       "      <th>min</th>\n",
       "      <td>1.000000</td>\n",
       "      <td>0.000000</td>\n",
       "    </tr>\n",
       "    <tr>\n",
       "      <th>25%</th>\n",
       "      <td>222.000000</td>\n",
       "      <td>0.000000</td>\n",
       "    </tr>\n",
       "    <tr>\n",
       "      <th>50%</th>\n",
       "      <td>464.000000</td>\n",
       "      <td>0.000000</td>\n",
       "    </tr>\n",
       "    <tr>\n",
       "      <th>75%</th>\n",
       "      <td>680.000000</td>\n",
       "      <td>0.000000</td>\n",
       "    </tr>\n",
       "    <tr>\n",
       "      <th>max</th>\n",
       "      <td>891.000000</td>\n",
       "      <td>1.000000</td>\n",
       "    </tr>\n",
       "  </tbody>\n",
       "</table>\n",
       "</div>"
      ],
      "text/plain": [
       "              PassengerId    Survived\n",
       "Sex                                  \n",
       "female count   314.000000  314.000000\n",
       "       mean    431.028662    0.742038\n",
       "       std     256.846324    0.438211\n",
       "       min       2.000000    0.000000\n",
       "       25%     231.750000    0.000000\n",
       "       50%     414.500000    1.000000\n",
       "       75%     641.250000    1.000000\n",
       "       max     889.000000    1.000000\n",
       "male   count   577.000000  577.000000\n",
       "       mean    454.147314    0.188908\n",
       "       std     257.486139    0.391775\n",
       "       min       1.000000    0.000000\n",
       "       25%     222.000000    0.000000\n",
       "       50%     464.000000    0.000000\n",
       "       75%     680.000000    0.000000\n",
       "       max     891.000000    1.000000"
      ]
     },
     "execution_count": 11,
     "metadata": {},
     "output_type": "execute_result"
    }
   ],
   "source": [
    "#Vamos exibir agora alguns dados descritivos\n",
    "gender_by_survival.groupby(['Sex']).describe()"
   ]
  },
  {
   "cell_type": "markdown",
   "metadata": {},
   "source": [
    "Como os valores de sobrevivencia e óbito estão definidos como 0 e 1, podemos, através da média, obter a taxa de sobrevivencia deste conjunto de dados, pois todo valor exibido na coluna 'Survived' será a fração de sobreviventes do grupo.\n",
    "\n",
    "Os dados acima demonstram que enquanto aproximadamente 74% (0.742038) das passageiras do sexo feminino sobreviveram, enquanto mais de 18% (0.188908) dos homens sobreviveram ao incidente.\n",
    "\n",
    "Isso indica uma forte correlação entre o gênero do passageiro e sua chance de sobrevivencia no desastre.\n",
    "\n",
    "Vamos criar agora um gráfico para facilitar a visualização"
   ]
  },
  {
   "cell_type": "code",
   "execution_count": 12,
   "metadata": {
    "collapsed": false
   },
   "outputs": [
    {
     "data": {
      "text/plain": [
       "<matplotlib.text.Text at 0xca89d30>"
      ]
     },
     "execution_count": 12,
     "metadata": {},
     "output_type": "execute_result"
    },
    {
     "data": {
      "image/png": "[encoded data removed]",
      "text/plain": [
       "<matplotlib.figure.Figure at 0xc8f22b0>"
      ]
     },
     "metadata": {},
     "output_type": "display_data"
    }
   ],
   "source": [
    "#Agora vamos criar um gráfico que demonstra a quantidade de homens e mulheres que sobreviveram ou faleceram no naufrágio\n",
    "#Usando a função criada anteriormente\n",
    "barGraph(gender_by_survival,\"Sex\")\n",
    "\n",
    "plt.xlabel(u'0 - Passageiro faleceu | 1 - Passageiro sobreviveu')\n",
    "plt.ylabel(u'Quantidade de passageiros')\n",
    "plt.title(u'Comparação de sobrevivência por gêneros')"
   ]
  },
  {
   "cell_type": "markdown",
   "metadata": {},
   "source": [
    "O gráfico reforça a idéia de que houve uma significativa correlação entre o gênero dos passageiros e as chances que eles tiveram de sobreviver."
   ]
  },
  {
   "cell_type": "markdown",
   "metadata": {},
   "source": [
    "### Conclusão da questão 1"
   ]
  },
  {
   "cell_type": "markdown",
   "metadata": {},
   "source": [
    "Embora exista a possibilidade de termos diversas váriaveis ocultas, os números que possuimos, unidos ao conhecido sobre situações de desastre é um indicativo de que a o conceito 'Mulheres e crianças primeiro' teve aplicabilidade, ao menos no quesito relativo ao gênero.\n",
    "\n",
    "Existe a possibilidade de a localização do passageiro no návio na hora do incidente, ou mesmo a classe social do passageiro (como veremos mais a diante) terem tido influencia significativa na chance de sobrevivência.\n",
    "\n",
    "No entanto os dados que temos são significativos para afirmarmos que existe uma boa chance de mulheres terem tido prioridade no momento de se decidir quem sobreviveria ou não."
   ]
  },
  {
   "cell_type": "markdown",
   "metadata": {},
   "source": [
    "# 2 - Idade foi um fator determinante na decisão de quem deveria sobreviver no naufrágio do Titanic?"
   ]
  },
  {
   "cell_type": "raw",
   "metadata": {},
   "source": [
    "Para responder essa pergunta podemos abordar de duas formas, uma delas é observando a quantidade total de crianças a bordo do navio, no entando isso gera dois problemas:\n",
    "    1 - Nós não saberemos se o fator que impactou na escolha de resgate de algumas das crianças foi sua idade ou gênero.\n",
    "    2 - Nós podemos ter perdido a estatistica de algumas crianças, principalmente do sexo feminino durante a limpeza de dados.\n",
    "\n",
    "Para resolver o primeiro problema, iremos analisar inicialmente apenas a idade dos passageiros do sexo masculino, assim saberemos se a idade dentro do grupo masculino foi de fato um fator importante na hora de escolher quem seria salvo.\n",
    "\n",
    "Além disso, conforme explicado na etapa de limpeza de dados, a maioria dos passeiros menores de 12 anos do sexo masculino possuia o titulo 'Master' o que nos perimitiu corrigir sua idade para que os dados ficassem mais corretos.\n",
    "\n",
    "Seguindo o conceito que usamos para determinar crianças na fase de limpeza de dados, vamos considerar apenas os passageiros com até 12 anos como crianças, uma vez que na época era dificil determinar quem era considerado uma criança, a exemplo disso, houveram jovens de até 14 anos que participaram da primeira guerra mundial (iniciada dois anos depois do naufrágio), o que demonstra que a percepção de alguém como criança era algo bem diferente do que é a percepção atual de menores de 18 anos.\n",
    "\n",
    "Fonte:\n",
    "http://www.bbc.com/news/magazine-29934965"
   ]
  },
  {
   "cell_type": "code",
   "execution_count": 13,
   "metadata": {
    "collapsed": false
   },
   "outputs": [
    {
     "data": {
      "text/html": [
       "<div>\n",
       "<table border=\"1\" class=\"dataframe\">\n",
       "  <thead>\n",
       "    <tr style=\"text-align: right;\">\n",
       "      <th></th>\n",
       "      <th>PassengerId</th>\n",
       "    </tr>\n",
       "    <tr>\n",
       "      <th>Survived</th>\n",
       "      <th></th>\n",
       "    </tr>\n",
       "  </thead>\n",
       "  <tbody>\n",
       "    <tr>\n",
       "      <th>0</th>\n",
       "      <td>450</td>\n",
       "    </tr>\n",
       "    <tr>\n",
       "      <th>1</th>\n",
       "      <td>86</td>\n",
       "    </tr>\n",
       "  </tbody>\n",
       "</table>\n",
       "</div>"
      ],
      "text/plain": [
       "          PassengerId\n",
       "Survived             \n",
       "0                 450\n",
       "1                  86"
      ]
     },
     "execution_count": 13,
     "metadata": {},
     "output_type": "execute_result"
    }
   ],
   "source": [
    "#Primeiro vamos criar um conjunto contendo apenas as tabelas que iremos usar.\n",
    "group=(titanic.ix[:, ['Sex', 'Survived', 'PassengerId', 'Age']])\n",
    "\n",
    "#Agora, vamos separar apenas os passageiros do sexo masculino\n",
    "male_passengers=group[group.Sex=='male']\n",
    "\n",
    "#E vamos dividi-los em crianças e adultos\n",
    "male_adult=male_passengers[male_passengers.Age>12]\n",
    "male_child=male_passengers[male_passengers.Age<=12]\n",
    "\n",
    "#Vamoes então remover as tabelas que não nos interassam mais\n",
    "male_adult=male_adult.ix[:, ['Survived', 'PassengerId']]\n",
    "male_child=male_child.ix[:, ['Survived', 'PassengerId']]\n",
    "\n",
    "#E vamos então exibir a quantidade de sobreviventes adultos do sexo masculino\n",
    "male_adult.groupby(['Survived']).count()"
   ]
  },
  {
   "cell_type": "code",
   "execution_count": 14,
   "metadata": {
    "collapsed": false
   },
   "outputs": [
    {
     "data": {
      "text/html": [
       "<div>\n",
       "<table border=\"1\" class=\"dataframe\">\n",
       "  <thead>\n",
       "    <tr style=\"text-align: right;\">\n",
       "      <th></th>\n",
       "      <th>PassengerId</th>\n",
       "    </tr>\n",
       "    <tr>\n",
       "      <th>Survived</th>\n",
       "      <th></th>\n",
       "    </tr>\n",
       "  </thead>\n",
       "  <tbody>\n",
       "    <tr>\n",
       "      <th>0</th>\n",
       "      <td>18</td>\n",
       "    </tr>\n",
       "    <tr>\n",
       "      <th>1</th>\n",
       "      <td>23</td>\n",
       "    </tr>\n",
       "  </tbody>\n",
       "</table>\n",
       "</div>"
      ],
      "text/plain": [
       "          PassengerId\n",
       "Survived             \n",
       "0                  18\n",
       "1                  23"
      ]
     },
     "execution_count": 14,
     "metadata": {},
     "output_type": "execute_result"
    }
   ],
   "source": [
    "#E agora vamos exibir a quantidade de sobreviventes crianças do sexo masculino\n",
    "male_child.groupby(['Survived']).count()"
   ]
  },
  {
   "cell_type": "code",
   "execution_count": 15,
   "metadata": {
    "collapsed": false
   },
   "outputs": [
    {
     "name": "stdout",
     "output_type": "stream",
     "text": [
      "Dados dos passageiros adultos do sexo masculino:\n",
      "         Survived  PassengerId\n",
      "count  536.000000   536.000000\n",
      "mean     0.160448   456.552239\n",
      "std      0.367364   253.927293\n",
      "min      0.000000     1.000000\n",
      "25%      0.000000   227.750000\n",
      "50%      0.000000   467.500000\n",
      "75%      0.000000   674.250000\n",
      "max      1.000000   891.000000\n",
      "Dados dos passageiros crianças do sexo masculino:\n",
      "        Survived  PassengerId\n",
      "count  41.000000    41.000000\n",
      "mean    0.560976   422.707317\n",
      "std     0.502433   302.008215\n",
      "min     0.000000     8.000000\n",
      "25%     0.000000   166.000000\n",
      "50%     1.000000   349.000000\n",
      "75%     1.000000   756.000000\n",
      "max     1.000000   870.000000\n"
     ]
    }
   ],
   "source": [
    "#Exibindo alguns dados\n",
    "print (u\"Dados dos passageiros adultos do sexo masculino:\")\n",
    "print male_adult.describe()\n",
    "print (u\"Dados dos passageiros crianças do sexo masculino:\")\n",
    "print male_child.describe()"
   ]
  },
  {
   "cell_type": "markdown",
   "metadata": {},
   "source": [
    "Em posse dos dados, verificamos que em torno de 56% (0.560976) das crianças do sexo masculino sobreviveram, enquanto apenas cerca 16% (0.160448) dos adultos do sexo masculino sobreviveram.\n",
    "\n",
    "O que indica que há correlação que pode ser atribuida ao fator idade, embora não seja tão forte quanto a vista no fator gênero.\n",
    "\n",
    "Vamos criar alguns gráficos para visualizar melhor"
   ]
  },
  {
   "cell_type": "code",
   "execution_count": 30,
   "metadata": {
    "collapsed": false
   },
   "outputs": [
    {
     "data": {
      "text/plain": [
       "<matplotlib.text.Text at 0xed1f780>"
      ]
     },
     "execution_count": 30,
     "metadata": {},
     "output_type": "execute_result"
    },
    {
     "data": {
      "image/png": "[encoded data removed]",
      "text/plain": [
       "<matplotlib.figure.Figure at 0xeaf60f0>"
      ]
     },
     "metadata": {},
     "output_type": "display_data"
    }
   ],
   "source": [
    "#Gráficos que demonstram quantidade de homens adultos e crianças que sobreviveram ou faleceram no naufragio\n",
    "kdeGraph(male_passengers,'Survived')\n",
    "plt.xlabel(u'Idade dos passageiros')\n",
    "plt.ylabel(u'Taxa de passageiros')\n",
    "plt.title(u'Comparação de sobrevivência de passageiros por idade')"
   ]
  },
  {
   "cell_type": "markdown",
   "metadata": {},
   "source": [
    "Observando o gráfico, notamos que uma taxa significativa de sobreviventes foi de crianças até 12 anos, enquanto uma taxa extremamente baixa de óbitos ocorreu em passageiros da mesma idade.\n",
    "\n",
    "Embora a idade que teve a maior porcentagem de sobreviventes tenha sido por volta dos 30 anos, está também foi a idade com maior quantidade de óbitos, provavelmente por que era a idade que a maior parte dos passageiros do sexo masculino possuiam durante a viagem.\n",
    "\n",
    "A diferença indica, por tanto, uma correlação significativa na idade dos passageiros e sua chance de sobrevivência."
   ]
  },
  {
   "cell_type": "markdown",
   "metadata": {},
   "source": [
    "Também podemos aprofundar essa verificação nas crianças do sexo feminino, embora não tenhamos dados suficientes para ter certeza se as crianças do sexo feminino tiveram maior taxa de sobrevivencia do que as mulheres adultas, podemos fazer uma estimativa razoavel considerando as informações que temos."
   ]
  },
  {
   "cell_type": "code",
   "execution_count": 17,
   "metadata": {
    "collapsed": false
   },
   "outputs": [
    {
     "data": {
      "text/html": [
       "<div>\n",
       "<table border=\"1\" class=\"dataframe\">\n",
       "  <thead>\n",
       "    <tr style=\"text-align: right;\">\n",
       "      <th></th>\n",
       "      <th>PassengerId</th>\n",
       "    </tr>\n",
       "    <tr>\n",
       "      <th>Survived</th>\n",
       "      <th></th>\n",
       "    </tr>\n",
       "  </thead>\n",
       "  <tbody>\n",
       "    <tr>\n",
       "      <th>0</th>\n",
       "      <td>68</td>\n",
       "    </tr>\n",
       "    <tr>\n",
       "      <th>1</th>\n",
       "      <td>214</td>\n",
       "    </tr>\n",
       "  </tbody>\n",
       "</table>\n",
       "</div>"
      ],
      "text/plain": [
       "          PassengerId\n",
       "Survived             \n",
       "0                  68\n",
       "1                 214"
      ]
     },
     "execution_count": 17,
     "metadata": {},
     "output_type": "execute_result"
    }
   ],
   "source": [
    "#Vamos separar apenas as passageiras do sexo feminino\n",
    "female_passengers=group[group.Sex=='female']\n",
    "\n",
    "#E vamos dividi-las em crianças e adultas\n",
    "female_adult=female_passengers[female_passengers.Age>12]\n",
    "female_child=female_passengers[female_passengers.Age<=12]\n",
    "\n",
    "#Vamos então remover as tabelas que não nos interassam mais\n",
    "female_adult=female_adult.ix[:, ['Survived', 'PassengerId']]\n",
    "female_child=female_child.ix[:, ['Survived', 'PassengerId']]\n",
    "\n",
    "#E vamos então exibir a quantidade de sobreviventes adultos do sexo feminino\n",
    "female_adult.groupby(['Survived']).count()"
   ]
  },
  {
   "cell_type": "code",
   "execution_count": 18,
   "metadata": {
    "collapsed": false
   },
   "outputs": [
    {
     "data": {
      "text/html": [
       "<div>\n",
       "<table border=\"1\" class=\"dataframe\">\n",
       "  <thead>\n",
       "    <tr style=\"text-align: right;\">\n",
       "      <th></th>\n",
       "      <th>PassengerId</th>\n",
       "    </tr>\n",
       "    <tr>\n",
       "      <th>Survived</th>\n",
       "      <th></th>\n",
       "    </tr>\n",
       "  </thead>\n",
       "  <tbody>\n",
       "    <tr>\n",
       "      <th>0</th>\n",
       "      <td>13</td>\n",
       "    </tr>\n",
       "    <tr>\n",
       "      <th>1</th>\n",
       "      <td>19</td>\n",
       "    </tr>\n",
       "  </tbody>\n",
       "</table>\n",
       "</div>"
      ],
      "text/plain": [
       "          PassengerId\n",
       "Survived             \n",
       "0                  13\n",
       "1                  19"
      ]
     },
     "execution_count": 18,
     "metadata": {},
     "output_type": "execute_result"
    }
   ],
   "source": [
    "#E agora vamos exibir a quantidade de sobreviventes crianças do sexo feminino\n",
    "female_child.groupby(['Survived']).count()"
   ]
  },
  {
   "cell_type": "code",
   "execution_count": 19,
   "metadata": {
    "collapsed": false
   },
   "outputs": [
    {
     "name": "stdout",
     "output_type": "stream",
     "text": [
      "Dados das passageiras adultas do sexo feminino:\n",
      "         Survived  PassengerId\n",
      "count  282.000000   282.000000\n",
      "mean     0.758865   431.641844\n",
      "std      0.428532   257.607089\n",
      "min      0.000000     2.000000\n",
      "25%      1.000000   237.250000\n",
      "50%      1.000000   407.500000\n",
      "75%      1.000000   641.250000\n",
      "max      1.000000   889.000000\n",
      "Dados das passageiras crianças do sexo feminino:\n",
      "        Survived  PassengerId\n",
      "count  32.000000    32.000000\n",
      "mean    0.593750   425.625000\n",
      "std     0.498991   254.001746\n",
      "min     0.000000    11.000000\n",
      "25%     0.000000   200.750000\n",
      "50%     1.000000   459.500000\n",
      "75%     1.000000   637.000000\n",
      "max     1.000000   853.000000\n"
     ]
    }
   ],
   "source": [
    "#Exibindo alguns dados\n",
    "print (u\"Dados das passageiras adultas do sexo feminino:\")\n",
    "print female_adult.describe()\n",
    "print (u\"Dados das passageiras crianças do sexo feminino:\")\n",
    "print female_child.describe()"
   ]
  },
  {
   "cell_type": "markdown",
   "metadata": {},
   "source": [
    "Analisando estes dados podemos concluir que cerca de 59% (0.593750) das passageiras crianças do sexo feminino sobreviveram, enquanto mais de 75% (0.758865) das mulheres adultas do sexo feminino sobreviveram ao incidente, o que não indica que o fator da idade tenha sido tão determinante para a sobrevivencia das mulheres durante o naufrágio como foi para os homens.\n",
    "\n",
    "Vamos criar um gráfico para visualizar melhor."
   ]
  },
  {
   "cell_type": "code",
   "execution_count": 31,
   "metadata": {
    "collapsed": false
   },
   "outputs": [
    {
     "data": {
      "text/plain": [
       "<matplotlib.text.Text at 0xec833c8>"
      ]
     },
     "execution_count": 31,
     "metadata": {},
     "output_type": "execute_result"
    },
    {
     "data": {
      "image/png": "[encoded data removed]",
      "text/plain": [
       "<matplotlib.figure.Figure at 0xd1694e0>"
      ]
     },
     "metadata": {},
     "output_type": "display_data"
    }
   ],
   "source": [
    "#Graficos que demonstram quantidade de mulheres adultas e crianças que sobreviveram ou faleceram no naufragio\n",
    "kdeGraph(female_passengers,'Survived')\n",
    "plt.xlabel(u'Idade das passageiras')\n",
    "plt.ylabel(u'Taxa de passageiras')\n",
    "plt.title(u'Comparação de sobrevivência de passageiras por idade')"
   ]
  },
  {
   "cell_type": "markdown",
   "metadata": {},
   "source": [
    "Pelo gráfico notamos que uma parte significativa das passageiras crianças sobreviveu ao incidente, no entanto também notamos que o as linhas de taxa de sobrevivencia e de óbitos são quase igualmente distribuidas ao longo das idades.\n",
    "\n",
    "Esse comportamento parece demonstrar que as passageiras do sexo feminino, independente da idade, tiveram chances similates de sobreviver.\n",
    "\n",
    "Isso corrobora os dados de que a taxa de sobrevivencia nas passageiras adultas foi maior do que a das crianças, o que não necessáriamente implica que elas tiveram alguma vantagem sobre as crianças, mas indica que a idade pode não ter sido um fator tão fundamental como foi para os homens."
   ]
  },
  {
   "cell_type": "markdown",
   "metadata": {},
   "source": [
    "### Conclusão da questão 2"
   ]
  },
  {
   "cell_type": "markdown",
   "metadata": {},
   "source": [
    "É notavel que houve uma grande diferença na taxa de sobrêvivencia entre homens e mulheres, porém, quando comparamos a taxa de sobrevivência entre crianças de ambos os gêneros, a diferença é extremamente pequena.\n",
    "\n",
    "Isso indica que ao se tratarem de crianças, ambos os gêneros tiveram preferência similar na hora de se definir quem seria salvo.\n",
    "\n",
    "O fato de uma porcentagem maior de mulheres adultas terem sobrevivido pode se dar ao fato de que havia uma quantidade muito maior de passageiras adultas do que de crianças.\n",
    "\n",
    "Também podemos considerar diversas váriaveis ocultas, como a localização dos passageiros na hora do naufrágio, crianças que estavam sem adultos por perto podem ter tido maior dificuldade de encontrarem os botes para escaparem, entre outros fatores."
   ]
  },
  {
   "cell_type": "markdown",
   "metadata": {},
   "source": [
    "# 3 - Classe social foi um fator determinante no momento de se decidir quem teria maiores chances de sobrevivência?"
   ]
  },
  {
   "cell_type": "markdown",
   "metadata": {},
   "source": [
    "Para responder essa pergunta vamos analisar a taxa de sobrevivência em cada uma das três classes de passageiros (1ª, 2ª e 3ª).\n",
    "No entanto, as correlações verificadas podem não indicar casualidade, uma vez que existem fortes indicações que gênero e idade são um fator importante para sobrevivência.\n",
    "\n",
    "Por tanto vamos realizar uma análise geral, e em seguida realizaremos a análise considerando os gêneros masculino (que possuiu o menor número de sobreviventes) e feminino (que possuiu o maior número de sobreviventes) para verificar a importância deste fator."
   ]
  },
  {
   "cell_type": "code",
   "execution_count": 21,
   "metadata": {
    "collapsed": false
   },
   "outputs": [
    {
     "data": {
      "text/html": [
       "<div>\n",
       "<table border=\"1\" class=\"dataframe\">\n",
       "  <thead>\n",
       "    <tr style=\"text-align: right;\">\n",
       "      <th></th>\n",
       "      <th>PassengerId</th>\n",
       "      <th>Survived</th>\n",
       "      <th>Sex</th>\n",
       "    </tr>\n",
       "    <tr>\n",
       "      <th>Pclass</th>\n",
       "      <th></th>\n",
       "      <th></th>\n",
       "      <th></th>\n",
       "    </tr>\n",
       "  </thead>\n",
       "  <tbody>\n",
       "    <tr>\n",
       "      <th>1</th>\n",
       "      <td>216</td>\n",
       "      <td>216</td>\n",
       "      <td>216</td>\n",
       "    </tr>\n",
       "    <tr>\n",
       "      <th>2</th>\n",
       "      <td>184</td>\n",
       "      <td>184</td>\n",
       "      <td>184</td>\n",
       "    </tr>\n",
       "    <tr>\n",
       "      <th>3</th>\n",
       "      <td>491</td>\n",
       "      <td>491</td>\n",
       "      <td>491</td>\n",
       "    </tr>\n",
       "  </tbody>\n",
       "</table>\n",
       "</div>"
      ],
      "text/plain": [
       "        PassengerId  Survived  Sex\n",
       "Pclass                            \n",
       "1               216       216  216\n",
       "2               184       184  184\n",
       "3               491       491  491"
      ]
     },
     "execution_count": 21,
     "metadata": {},
     "output_type": "execute_result"
    }
   ],
   "source": [
    "#Primeiro vamos exibir um conjunto de dados só com as tabelas que nos interessam\n",
    "passenger_by_class = titanic.ix[:, ['PassengerId', 'Survived', 'Sex', 'Pclass']]\n",
    "\n",
    "#Agora vamos exibir os dados organizados pela classe que os passageiros se encontram\n",
    "passenger_by_class.groupby(['Pclass']).count()"
   ]
  },
  {
   "cell_type": "code",
   "execution_count": 22,
   "metadata": {
    "collapsed": false
   },
   "outputs": [
    {
     "data": {
      "text/html": [
       "<div>\n",
       "<table border=\"1\" class=\"dataframe\">\n",
       "  <thead>\n",
       "    <tr style=\"text-align: right;\">\n",
       "      <th></th>\n",
       "      <th></th>\n",
       "      <th>PassengerId</th>\n",
       "      <th>Survived</th>\n",
       "    </tr>\n",
       "    <tr>\n",
       "      <th>Pclass</th>\n",
       "      <th></th>\n",
       "      <th></th>\n",
       "      <th></th>\n",
       "    </tr>\n",
       "  </thead>\n",
       "  <tbody>\n",
       "    <tr>\n",
       "      <th rowspan=\"8\" valign=\"top\">1</th>\n",
       "      <th>count</th>\n",
       "      <td>216.000000</td>\n",
       "      <td>216.000000</td>\n",
       "    </tr>\n",
       "    <tr>\n",
       "      <th>mean</th>\n",
       "      <td>461.597222</td>\n",
       "      <td>0.629630</td>\n",
       "    </tr>\n",
       "    <tr>\n",
       "      <th>std</th>\n",
       "      <td>246.737616</td>\n",
       "      <td>0.484026</td>\n",
       "    </tr>\n",
       "    <tr>\n",
       "      <th>min</th>\n",
       "      <td>2.000000</td>\n",
       "      <td>0.000000</td>\n",
       "    </tr>\n",
       "    <tr>\n",
       "      <th>25%</th>\n",
       "      <td>270.750000</td>\n",
       "      <td>0.000000</td>\n",
       "    </tr>\n",
       "    <tr>\n",
       "      <th>50%</th>\n",
       "      <td>472.000000</td>\n",
       "      <td>1.000000</td>\n",
       "    </tr>\n",
       "    <tr>\n",
       "      <th>75%</th>\n",
       "      <td>670.500000</td>\n",
       "      <td>1.000000</td>\n",
       "    </tr>\n",
       "    <tr>\n",
       "      <th>max</th>\n",
       "      <td>890.000000</td>\n",
       "      <td>1.000000</td>\n",
       "    </tr>\n",
       "    <tr>\n",
       "      <th rowspan=\"8\" valign=\"top\">2</th>\n",
       "      <th>count</th>\n",
       "      <td>184.000000</td>\n",
       "      <td>184.000000</td>\n",
       "    </tr>\n",
       "    <tr>\n",
       "      <th>mean</th>\n",
       "      <td>445.956522</td>\n",
       "      <td>0.472826</td>\n",
       "    </tr>\n",
       "    <tr>\n",
       "      <th>std</th>\n",
       "      <td>250.852161</td>\n",
       "      <td>0.500623</td>\n",
       "    </tr>\n",
       "    <tr>\n",
       "      <th>min</th>\n",
       "      <td>10.000000</td>\n",
       "      <td>0.000000</td>\n",
       "    </tr>\n",
       "    <tr>\n",
       "      <th>25%</th>\n",
       "      <td>234.500000</td>\n",
       "      <td>0.000000</td>\n",
       "    </tr>\n",
       "    <tr>\n",
       "      <th>50%</th>\n",
       "      <td>435.500000</td>\n",
       "      <td>0.000000</td>\n",
       "    </tr>\n",
       "    <tr>\n",
       "      <th>75%</th>\n",
       "      <td>668.000000</td>\n",
       "      <td>1.000000</td>\n",
       "    </tr>\n",
       "    <tr>\n",
       "      <th>max</th>\n",
       "      <td>887.000000</td>\n",
       "      <td>1.000000</td>\n",
       "    </tr>\n",
       "    <tr>\n",
       "      <th rowspan=\"8\" valign=\"top\">3</th>\n",
       "      <th>count</th>\n",
       "      <td>491.000000</td>\n",
       "      <td>491.000000</td>\n",
       "    </tr>\n",
       "    <tr>\n",
       "      <th>mean</th>\n",
       "      <td>439.154786</td>\n",
       "      <td>0.242363</td>\n",
       "    </tr>\n",
       "    <tr>\n",
       "      <th>std</th>\n",
       "      <td>264.441453</td>\n",
       "      <td>0.428949</td>\n",
       "    </tr>\n",
       "    <tr>\n",
       "      <th>min</th>\n",
       "      <td>1.000000</td>\n",
       "      <td>0.000000</td>\n",
       "    </tr>\n",
       "    <tr>\n",
       "      <th>25%</th>\n",
       "      <td>200.000000</td>\n",
       "      <td>0.000000</td>\n",
       "    </tr>\n",
       "    <tr>\n",
       "      <th>50%</th>\n",
       "      <td>432.000000</td>\n",
       "      <td>0.000000</td>\n",
       "    </tr>\n",
       "    <tr>\n",
       "      <th>75%</th>\n",
       "      <td>666.500000</td>\n",
       "      <td>0.000000</td>\n",
       "    </tr>\n",
       "    <tr>\n",
       "      <th>max</th>\n",
       "      <td>891.000000</td>\n",
       "      <td>1.000000</td>\n",
       "    </tr>\n",
       "  </tbody>\n",
       "</table>\n",
       "</div>"
      ],
      "text/plain": [
       "              PassengerId    Survived\n",
       "Pclass                               \n",
       "1      count   216.000000  216.000000\n",
       "       mean    461.597222    0.629630\n",
       "       std     246.737616    0.484026\n",
       "       min       2.000000    0.000000\n",
       "       25%     270.750000    0.000000\n",
       "       50%     472.000000    1.000000\n",
       "       75%     670.500000    1.000000\n",
       "       max     890.000000    1.000000\n",
       "2      count   184.000000  184.000000\n",
       "       mean    445.956522    0.472826\n",
       "       std     250.852161    0.500623\n",
       "       min      10.000000    0.000000\n",
       "       25%     234.500000    0.000000\n",
       "       50%     435.500000    0.000000\n",
       "       75%     668.000000    1.000000\n",
       "       max     887.000000    1.000000\n",
       "3      count   491.000000  491.000000\n",
       "       mean    439.154786    0.242363\n",
       "       std     264.441453    0.428949\n",
       "       min       1.000000    0.000000\n",
       "       25%     200.000000    0.000000\n",
       "       50%     432.000000    0.000000\n",
       "       75%     666.500000    0.000000\n",
       "       max     891.000000    1.000000"
      ]
     },
     "execution_count": 22,
     "metadata": {},
     "output_type": "execute_result"
    }
   ],
   "source": [
    "#Vamos então exibir alguns dados\n",
    "passenger_by_class.groupby(['Pclass']).describe()"
   ]
  },
  {
   "cell_type": "markdown",
   "metadata": {},
   "source": [
    "Os dados nos mostram que aproximadamente 62%(0.629630) dos passageiros da primeira classe sobreviveram, enquanto cerca de 47% (0.472826) dos passageiros da segunda classe e apenas 24% (0.242363) dos passageiros da terceira classe.\n",
    "\n",
    "O que indica que houve uma correlação entre a classe dos passageiros e sua chance de sobrevivência, no entanto essa informação pode estar contaminada pelas analises de gênero e idade já citadas.\n",
    "\n",
    "Por tanto, vamos dividir os dados por gênero, para tentar obter uma informação um pouco mais precisa."
   ]
  },
  {
   "cell_type": "code",
   "execution_count": 23,
   "metadata": {
    "collapsed": false
   },
   "outputs": [
    {
     "data": {
      "text/html": [
       "<div>\n",
       "<table border=\"1\" class=\"dataframe\">\n",
       "  <thead>\n",
       "    <tr style=\"text-align: right;\">\n",
       "      <th></th>\n",
       "      <th></th>\n",
       "      <th>PassengerId</th>\n",
       "      <th>Survived</th>\n",
       "    </tr>\n",
       "    <tr>\n",
       "      <th>Sex</th>\n",
       "      <th>Pclass</th>\n",
       "      <th></th>\n",
       "      <th></th>\n",
       "    </tr>\n",
       "  </thead>\n",
       "  <tbody>\n",
       "    <tr>\n",
       "      <th rowspan=\"3\" valign=\"top\">female</th>\n",
       "      <th>1</th>\n",
       "      <td>94</td>\n",
       "      <td>94</td>\n",
       "    </tr>\n",
       "    <tr>\n",
       "      <th>2</th>\n",
       "      <td>76</td>\n",
       "      <td>76</td>\n",
       "    </tr>\n",
       "    <tr>\n",
       "      <th>3</th>\n",
       "      <td>144</td>\n",
       "      <td>144</td>\n",
       "    </tr>\n",
       "    <tr>\n",
       "      <th rowspan=\"3\" valign=\"top\">male</th>\n",
       "      <th>1</th>\n",
       "      <td>122</td>\n",
       "      <td>122</td>\n",
       "    </tr>\n",
       "    <tr>\n",
       "      <th>2</th>\n",
       "      <td>108</td>\n",
       "      <td>108</td>\n",
       "    </tr>\n",
       "    <tr>\n",
       "      <th>3</th>\n",
       "      <td>347</td>\n",
       "      <td>347</td>\n",
       "    </tr>\n",
       "  </tbody>\n",
       "</table>\n",
       "</div>"
      ],
      "text/plain": [
       "               PassengerId  Survived\n",
       "Sex    Pclass                       \n",
       "female 1                94        94\n",
       "       2                76        76\n",
       "       3               144       144\n",
       "male   1               122       122\n",
       "       2               108       108\n",
       "       3               347       347"
      ]
     },
     "execution_count": 23,
     "metadata": {},
     "output_type": "execute_result"
    }
   ],
   "source": [
    "#Agora vamos exibir os dados organizados por sexo, classe e sobrevivencia\n",
    "passenger_by_class.groupby(['Sex','Pclass']).count()"
   ]
  },
  {
   "cell_type": "code",
   "execution_count": 24,
   "metadata": {
    "collapsed": false
   },
   "outputs": [
    {
     "data": {
      "text/html": [
       "<div>\n",
       "<table border=\"1\" class=\"dataframe\">\n",
       "  <thead>\n",
       "    <tr style=\"text-align: right;\">\n",
       "      <th></th>\n",
       "      <th></th>\n",
       "      <th></th>\n",
       "      <th>PassengerId</th>\n",
       "      <th>Survived</th>\n",
       "    </tr>\n",
       "    <tr>\n",
       "      <th>Sex</th>\n",
       "      <th>Pclass</th>\n",
       "      <th></th>\n",
       "      <th></th>\n",
       "      <th></th>\n",
       "    </tr>\n",
       "  </thead>\n",
       "  <tbody>\n",
       "    <tr>\n",
       "      <th rowspan=\"24\" valign=\"top\">female</th>\n",
       "      <th rowspan=\"8\" valign=\"top\">1</th>\n",
       "      <th>count</th>\n",
       "      <td>94.000000</td>\n",
       "      <td>94.000000</td>\n",
       "    </tr>\n",
       "    <tr>\n",
       "      <th>mean</th>\n",
       "      <td>469.212766</td>\n",
       "      <td>0.968085</td>\n",
       "    </tr>\n",
       "    <tr>\n",
       "      <th>std</th>\n",
       "      <td>247.476723</td>\n",
       "      <td>0.176716</td>\n",
       "    </tr>\n",
       "    <tr>\n",
       "      <th>min</th>\n",
       "      <td>2.000000</td>\n",
       "      <td>0.000000</td>\n",
       "    </tr>\n",
       "    <tr>\n",
       "      <th>25%</th>\n",
       "      <td>293.500000</td>\n",
       "      <td>1.000000</td>\n",
       "    </tr>\n",
       "    <tr>\n",
       "      <th>50%</th>\n",
       "      <td>447.000000</td>\n",
       "      <td>1.000000</td>\n",
       "    </tr>\n",
       "    <tr>\n",
       "      <th>75%</th>\n",
       "      <td>698.250000</td>\n",
       "      <td>1.000000</td>\n",
       "    </tr>\n",
       "    <tr>\n",
       "      <th>max</th>\n",
       "      <td>888.000000</td>\n",
       "      <td>1.000000</td>\n",
       "    </tr>\n",
       "    <tr>\n",
       "      <th rowspan=\"8\" valign=\"top\">2</th>\n",
       "      <th>count</th>\n",
       "      <td>76.000000</td>\n",
       "      <td>76.000000</td>\n",
       "    </tr>\n",
       "    <tr>\n",
       "      <th>mean</th>\n",
       "      <td>443.105263</td>\n",
       "      <td>0.921053</td>\n",
       "    </tr>\n",
       "    <tr>\n",
       "      <th>std</th>\n",
       "      <td>243.627288</td>\n",
       "      <td>0.271448</td>\n",
       "    </tr>\n",
       "    <tr>\n",
       "      <th>min</th>\n",
       "      <td>10.000000</td>\n",
       "      <td>0.000000</td>\n",
       "    </tr>\n",
       "    <tr>\n",
       "      <th>25%</th>\n",
       "      <td>269.750000</td>\n",
       "      <td>1.000000</td>\n",
       "    </tr>\n",
       "    <tr>\n",
       "      <th>50%</th>\n",
       "      <td>439.500000</td>\n",
       "      <td>1.000000</td>\n",
       "    </tr>\n",
       "    <tr>\n",
       "      <th>75%</th>\n",
       "      <td>616.750000</td>\n",
       "      <td>1.000000</td>\n",
       "    </tr>\n",
       "    <tr>\n",
       "      <th>max</th>\n",
       "      <td>881.000000</td>\n",
       "      <td>1.000000</td>\n",
       "    </tr>\n",
       "    <tr>\n",
       "      <th rowspan=\"8\" valign=\"top\">3</th>\n",
       "      <th>count</th>\n",
       "      <td>144.000000</td>\n",
       "      <td>144.000000</td>\n",
       "    </tr>\n",
       "    <tr>\n",
       "      <th>mean</th>\n",
       "      <td>399.729167</td>\n",
       "      <td>0.500000</td>\n",
       "    </tr>\n",
       "    <tr>\n",
       "      <th>std</th>\n",
       "      <td>267.232416</td>\n",
       "      <td>0.501745</td>\n",
       "    </tr>\n",
       "    <tr>\n",
       "      <th>min</th>\n",
       "      <td>3.000000</td>\n",
       "      <td>0.000000</td>\n",
       "    </tr>\n",
       "    <tr>\n",
       "      <th>25%</th>\n",
       "      <td>165.250000</td>\n",
       "      <td>0.000000</td>\n",
       "    </tr>\n",
       "    <tr>\n",
       "      <th>50%</th>\n",
       "      <td>376.000000</td>\n",
       "      <td>0.500000</td>\n",
       "    </tr>\n",
       "    <tr>\n",
       "      <th>75%</th>\n",
       "      <td>636.000000</td>\n",
       "      <td>1.000000</td>\n",
       "    </tr>\n",
       "    <tr>\n",
       "      <th>max</th>\n",
       "      <td>889.000000</td>\n",
       "      <td>1.000000</td>\n",
       "    </tr>\n",
       "    <tr>\n",
       "      <th rowspan=\"24\" valign=\"top\">male</th>\n",
       "      <th rowspan=\"8\" valign=\"top\">1</th>\n",
       "      <th>count</th>\n",
       "      <td>122.000000</td>\n",
       "      <td>122.000000</td>\n",
       "    </tr>\n",
       "    <tr>\n",
       "      <th>mean</th>\n",
       "      <td>455.729508</td>\n",
       "      <td>0.368852</td>\n",
       "    </tr>\n",
       "    <tr>\n",
       "      <th>std</th>\n",
       "      <td>247.026449</td>\n",
       "      <td>0.484484</td>\n",
       "    </tr>\n",
       "    <tr>\n",
       "      <th>min</th>\n",
       "      <td>7.000000</td>\n",
       "      <td>0.000000</td>\n",
       "    </tr>\n",
       "    <tr>\n",
       "      <th>25%</th>\n",
       "      <td>255.500000</td>\n",
       "      <td>0.000000</td>\n",
       "    </tr>\n",
       "    <tr>\n",
       "      <th>50%</th>\n",
       "      <td>480.500000</td>\n",
       "      <td>0.000000</td>\n",
       "    </tr>\n",
       "    <tr>\n",
       "      <th>75%</th>\n",
       "      <td>660.750000</td>\n",
       "      <td>1.000000</td>\n",
       "    </tr>\n",
       "    <tr>\n",
       "      <th>max</th>\n",
       "      <td>890.000000</td>\n",
       "      <td>1.000000</td>\n",
       "    </tr>\n",
       "    <tr>\n",
       "      <th rowspan=\"8\" valign=\"top\">2</th>\n",
       "      <th>count</th>\n",
       "      <td>108.000000</td>\n",
       "      <td>108.000000</td>\n",
       "    </tr>\n",
       "    <tr>\n",
       "      <th>mean</th>\n",
       "      <td>447.962963</td>\n",
       "      <td>0.157407</td>\n",
       "    </tr>\n",
       "    <tr>\n",
       "      <th>std</th>\n",
       "      <td>256.922546</td>\n",
       "      <td>0.365882</td>\n",
       "    </tr>\n",
       "    <tr>\n",
       "      <th>min</th>\n",
       "      <td>18.000000</td>\n",
       "      <td>0.000000</td>\n",
       "    </tr>\n",
       "    <tr>\n",
       "      <th>25%</th>\n",
       "      <td>225.750000</td>\n",
       "      <td>0.000000</td>\n",
       "    </tr>\n",
       "    <tr>\n",
       "      <th>50%</th>\n",
       "      <td>416.500000</td>\n",
       "      <td>0.000000</td>\n",
       "    </tr>\n",
       "    <tr>\n",
       "      <th>75%</th>\n",
       "      <td>677.500000</td>\n",
       "      <td>0.000000</td>\n",
       "    </tr>\n",
       "    <tr>\n",
       "      <th>max</th>\n",
       "      <td>887.000000</td>\n",
       "      <td>1.000000</td>\n",
       "    </tr>\n",
       "    <tr>\n",
       "      <th rowspan=\"8\" valign=\"top\">3</th>\n",
       "      <th>count</th>\n",
       "      <td>347.000000</td>\n",
       "      <td>347.000000</td>\n",
       "    </tr>\n",
       "    <tr>\n",
       "      <th>mean</th>\n",
       "      <td>455.515850</td>\n",
       "      <td>0.135447</td>\n",
       "    </tr>\n",
       "    <tr>\n",
       "      <th>std</th>\n",
       "      <td>261.921251</td>\n",
       "      <td>0.342694</td>\n",
       "    </tr>\n",
       "    <tr>\n",
       "      <th>min</th>\n",
       "      <td>1.000000</td>\n",
       "      <td>0.000000</td>\n",
       "    </tr>\n",
       "    <tr>\n",
       "      <th>25%</th>\n",
       "      <td>209.500000</td>\n",
       "      <td>0.000000</td>\n",
       "    </tr>\n",
       "    <tr>\n",
       "      <th>50%</th>\n",
       "      <td>466.000000</td>\n",
       "      <td>0.000000</td>\n",
       "    </tr>\n",
       "    <tr>\n",
       "      <th>75%</th>\n",
       "      <td>687.500000</td>\n",
       "      <td>0.000000</td>\n",
       "    </tr>\n",
       "    <tr>\n",
       "      <th>max</th>\n",
       "      <td>891.000000</td>\n",
       "      <td>1.000000</td>\n",
       "    </tr>\n",
       "  </tbody>\n",
       "</table>\n",
       "</div>"
      ],
      "text/plain": [
       "                     PassengerId    Survived\n",
       "Sex    Pclass                               \n",
       "female 1      count    94.000000   94.000000\n",
       "              mean    469.212766    0.968085\n",
       "              std     247.476723    0.176716\n",
       "              min       2.000000    0.000000\n",
       "              25%     293.500000    1.000000\n",
       "              50%     447.000000    1.000000\n",
       "              75%     698.250000    1.000000\n",
       "              max     888.000000    1.000000\n",
       "       2      count    76.000000   76.000000\n",
       "              mean    443.105263    0.921053\n",
       "              std     243.627288    0.271448\n",
       "              min      10.000000    0.000000\n",
       "              25%     269.750000    1.000000\n",
       "              50%     439.500000    1.000000\n",
       "              75%     616.750000    1.000000\n",
       "              max     881.000000    1.000000\n",
       "       3      count   144.000000  144.000000\n",
       "              mean    399.729167    0.500000\n",
       "              std     267.232416    0.501745\n",
       "              min       3.000000    0.000000\n",
       "              25%     165.250000    0.000000\n",
       "              50%     376.000000    0.500000\n",
       "              75%     636.000000    1.000000\n",
       "              max     889.000000    1.000000\n",
       "male   1      count   122.000000  122.000000\n",
       "              mean    455.729508    0.368852\n",
       "              std     247.026449    0.484484\n",
       "              min       7.000000    0.000000\n",
       "              25%     255.500000    0.000000\n",
       "              50%     480.500000    0.000000\n",
       "              75%     660.750000    1.000000\n",
       "              max     890.000000    1.000000\n",
       "       2      count   108.000000  108.000000\n",
       "              mean    447.962963    0.157407\n",
       "              std     256.922546    0.365882\n",
       "              min      18.000000    0.000000\n",
       "              25%     225.750000    0.000000\n",
       "              50%     416.500000    0.000000\n",
       "              75%     677.500000    0.000000\n",
       "              max     887.000000    1.000000\n",
       "       3      count   347.000000  347.000000\n",
       "              mean    455.515850    0.135447\n",
       "              std     261.921251    0.342694\n",
       "              min       1.000000    0.000000\n",
       "              25%     209.500000    0.000000\n",
       "              50%     466.000000    0.000000\n",
       "              75%     687.500000    0.000000\n",
       "              max     891.000000    1.000000"
      ]
     },
     "execution_count": 24,
     "metadata": {},
     "output_type": "execute_result"
    }
   ],
   "source": [
    "#Em seguida vamos exibir algumas estatisticas de cada campo\n",
    "passenger_by_class.groupby(['Sex','Pclass']).describe()"
   ]
  },
  {
   "cell_type": "markdown",
   "metadata": {},
   "source": [
    "Ao observar a primeira classe notamos que quase 96% (0.968085) dos passageiros do sexo feminino da primeira classe sobreviveram, em comparação com 92% (0.921053) da segunda classe e apenas 50% (0.500000) da terceira classe.\n",
    "\n",
    "Quanto aos passageiros do sexo masculino, cerca de 36% (0.368852) dos passageiros da primeira classe sobreviveram, contra 15% (0.157407) da segunda classe e 13% (0.135447) da terceira.\n",
    "\n",
    "Vamos agora elaborar alguns gráficos facilitar a visualização."
   ]
  },
  {
   "cell_type": "code",
   "execution_count": 29,
   "metadata": {
    "collapsed": false
   },
   "outputs": [
    {
     "data": {
      "text/plain": [
       "<matplotlib.text.Text at 0xeaf6c88>"
      ]
     },
     "execution_count": 29,
     "metadata": {},
     "output_type": "execute_result"
    },
    {
     "data": {
      "image/png": "[encoded data removed]",
      "text/plain": [
       "<matplotlib.figure.Figure at 0xea36b70>"
      ]
     },
     "metadata": {},
     "output_type": "display_data"
    }
   ],
   "source": [
    "#Gráficos que demonstra a relação de sobreviventes do gênero feminino por classe\n",
    "barGraph(passenger_by_class[passenger_by_class.Sex=='female'],\"Pclass\")\n",
    "\n",
    "plt.xlabel(u'0 - Passageira faleceu | 1 - Passageira sobreviveu')\n",
    "plt.ylabel(u'Quantidade de passageiras')\n",
    "plt.title(u'Comparação de sobrevivência de passageiras por classe')"
   ]
  },
  {
   "cell_type": "markdown",
   "metadata": {},
   "source": [
    "Este gráfico demonstra que enquanto praticamente todas as passageiras da primeira e segunda classe sobreviveram, apenas metade das passageiras da terceira classe tiveram a mesma sorte.\n",
    "\n",
    "A diferença discrepante na taxa de sobrevivência das passageiras da terceira classe para a das demais, indica que houve uma correlação significativa entre a classe na qual o passageiro se encontrava, e suas chances de sobrevivência."
   ]
  },
  {
   "cell_type": "code",
   "execution_count": 28,
   "metadata": {
    "collapsed": false
   },
   "outputs": [
    {
     "data": {
      "text/plain": [
       "<matplotlib.text.Text at 0xe86b2e8>"
      ]
     },
     "execution_count": 28,
     "metadata": {},
     "output_type": "execute_result"
    },
    {
     "data": {
      "image/png": "[encoded data removed]",
      "text/plain": [
       "<matplotlib.figure.Figure at 0xd6ac438>"
      ]
     },
     "metadata": {},
     "output_type": "display_data"
    }
   ],
   "source": [
    "#Gráficos que demonstra a relação de sobreviventes do gênero feminino por classe\n",
    "barGraph(passenger_by_class[passenger_by_class.Sex=='male'],\"Pclass\")\n",
    "\n",
    "plt.xlabel(u'0 - Passageiro faleceu | 1 - Passageiro sobreviveu')\n",
    "plt.ylabel(u'Quantidade de passageiros')\n",
    "plt.title(u'Comparação de sobrevivência de passageiros por classe')"
   ]
  },
  {
   "cell_type": "markdown",
   "metadata": {},
   "source": [
    "Este gráfico permite uma visualização interessante, o grupo que teve a maior quantidade de sobreviventes foi o da terceira classe, ainda assim, a taxa de óbito da terceira classe foi tão significativamente maior que a das demais, que a correlação entre a classe e a taxa de sobrevivência fica bem clara.\n",
    "\n",
    "No entanto, ao contrário do que aconteceu com as passageiras do sexo feminino, onde as passageiras da primeira e segunda classe tiveram taxas de sobrevivência similares, aqui, os passageiros de segunda e terceira classe tiveram taxas de sobrevivência similares, enquanto as taxas de sobrevivência dos passageiros da primeira classe se sobressairam mais significativamente."
   ]
  },
  {
   "cell_type": "markdown",
   "metadata": {},
   "source": [
    "### Conclusão da questão 3"
   ]
  },
  {
   "cell_type": "markdown",
   "metadata": {},
   "source": [
    "Existe uma chance alta de a classe social ter influenciado nas chances de sobrevivência dos passageiros, quando dividimos o conjunto de dados por gênero essa relação ficou mais clara, principalmente quando analisamos a taxa de óbitos da terceira classe das passageiras do sexo feminino, e a taxa de sobrevivência da primeira classe dos passageiros do sexo masculino.\n",
    "\n",
    "Como mencionado anteriormente, correlação não indica casualidade, podem existir diversas outras váriaveis não levadas em conta, como por exemplo a localização da cabine no momento do incidente, a distância que cada passageiro estava dos botes salva-vidas, doenças e problemas de saúde que podem ter dificultado a movimentação dos passageiros, entre outras coisas."
   ]
  },
  {
   "cell_type": "markdown",
   "metadata": {},
   "source": [
    "### Possíveis análises futuras "
   ]
  },
  {
   "cell_type": "markdown",
   "metadata": {},
   "source": [
    "Futuramente com este conjunto de dados seria possível análisar conjuntos das familias considerando os sobrenomes além das váriaveis Sibsp e Parch para tentar determinar se pessoas que estavam acompanhas de suas familias tiveram mais chance de sobreviver.\n",
    "\n",
    "Também seria possivel analisar questões como custo médio das passagens considerando a região de embarque, média de sobreviventes por região, entre outras questões.\n",
    "\n",
    "Mas para este trabalho, as análises realizadas foram suficientes para chegar a algumas conclusões."
   ]
  },
  {
   "cell_type": "markdown",
   "metadata": {},
   "source": [
    "# Conclusão"
   ]
  },
  {
   "cell_type": "markdown",
   "metadata": {},
   "source": [
    "Para encerrar, as observações vistas nesse projeto indicam que a chance de sobrevivência de cada passageiro foi influenciada por não um, mas uma série de fatores como gênero, idade e classe social.\n",
    "\n",
    "Como não executamos nenhuma análise estatistica, estamos baseando a análise apenas em observações dos dados obtidos.\n",
    "\n",
    "Não há como saber todos os fatores que influenciaram na chance de sobrevivência dos passageiros, e existem diversos fatores e váriaveis que não podemos prever, no entanto, com o conjunto de dados que temos podemos estimar, que alguns dos clichês basicos que vemos no cinema se fizeram validos no incidente real.\n",
    "\n",
    "Dentro deste conjunto de dados, é muito possível que \"Mulheres e crianças\" realmente se salvaram primeiro, assim como os passageiros mais ricos, mas isso não é uma conclusão estatistica, é apenas uma teoria formulada a partir da observação dos dados aos quais tivemos acesso."
   ]
  }
 ],
 "metadata": {
  "anaconda-cloud": {},
  "kernelspec": {
   "display_name": "Python [conda root]",
   "language": "python",
   "name": "conda-root-py"
  },
  "language_info": {
   "codemirror_mode": {
    "name": "ipython",
    "version": 2
   },
   "file_extension": ".py",
   "mimetype": "text/x-python",
   "name": "python",
   "nbconvert_exporter": "python",
   "pygments_lexer": "ipython2",
   "version": "2.7.12"
  }
 },
 "nbformat": 4,
 "nbformat_minor": 1
}
