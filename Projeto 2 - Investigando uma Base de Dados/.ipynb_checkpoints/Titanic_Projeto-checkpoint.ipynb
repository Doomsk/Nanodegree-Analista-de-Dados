{
 "cells": [
  {
   "cell_type": "markdown",
   "metadata": {},
   "source": [
    "# Investigando uma base de dados - Titanic"
   ]
  },
  {
   "cell_type": "markdown",
   "metadata": {},
   "source": [
    "O RMS Titanic foi um navio de passageiros britanico que colidiu com um iceberg em 14 de abril de 1912 e naufragou durante a madrugada do dia seguinte.\n",
    "\n",
    "O conjunto de dados que será explorado nesse projeto tem como objetivo criar e responder algumas perguntas referentes as causas que influenciaram na chance de sobrevivencia dos passageiros.\n",
    "\n",
    "O conjunto de dados possui informações de 891 dos 2224 passageiros que se encontravam no navio no momento do naufrágio."
   ]
  },
  {
   "cell_type": "raw",
   "metadata": {},
   "source": [
    "Primeiramente precisamos identificar os dados que existem no arquivo csv:\n",
    "    \n",
    "Descrição das variaveis:\n",
    "\n",
    "PassengerId - Indicador unico dos passageiros na tabela.\n",
    "Survival - Indica se o passageiro sobreviveu. (0 = Não; 1 = Sim)\n",
    "Pclass - Indica a classe do passageiro. (1 = 1ª Classe; 2 = 2ª Classe; 3 = 3ª Classe)\n",
    "Name - Indica o nome do passageiro.\n",
    "Sex - Indica o genero do passageiro.\n",
    "Age - Indica a idade do passageiro.\n",
    "Sibsp - Indica a quantidade de parentes do passageiro a bordo do Titanic com os seguintes graus de parentesco:\n",
    "        (Irmão, Irmã, meio-irmão, meia-irmã, marido e esposa).\n",
    "Parch - Indica a quantidade de parentes do passageiro a bordo do Titanic com os seguintes graus de parentesco:\n",
    "        (Filhos, filhas, enteados, enteadas, pai e mãe).\n",
    "Ticket - Indica o número do Ticket do passageiro.\n",
    "Dare - Indica o custo da passagem do passageiro.\n",
    "Cabin - Indica a cabine na qual o passageiro se encontrava.\n",
    "Embarked - Indica o local de embarque do passageiro. (C = Cherbourg; Q = Queenstown; S = Southampton)\n",
    "\n",
    "Fonte: https://www.kaggle.com/c/titanic/data"
   ]
  },
  {
   "cell_type": "code",
   "execution_count": 4,
   "metadata": {
    "collapsed": false
   },
   "outputs": [
    {
     "data": {
      "text/html": [
       "<div>\n",
       "<table border=\"1\" class=\"dataframe\">\n",
       "  <thead>\n",
       "    <tr style=\"text-align: right;\">\n",
       "      <th></th>\n",
       "      <th>PassengerId</th>\n",
       "      <th>Survived</th>\n",
       "      <th>Pclass</th>\n",
       "      <th>Name</th>\n",
       "      <th>Sex</th>\n",
       "      <th>Age</th>\n",
       "      <th>SibSp</th>\n",
       "      <th>Parch</th>\n",
       "      <th>Ticket</th>\n",
       "      <th>Fare</th>\n",
       "      <th>Cabin</th>\n",
       "      <th>Embarked</th>\n",
       "    </tr>\n",
       "  </thead>\n",
       "  <tbody>\n",
       "    <tr>\n",
       "      <th>0</th>\n",
       "      <td>1</td>\n",
       "      <td>0</td>\n",
       "      <td>3</td>\n",
       "      <td>Braund, Mr. Owen Harris</td>\n",
       "      <td>male</td>\n",
       "      <td>22.0</td>\n",
       "      <td>1</td>\n",
       "      <td>0</td>\n",
       "      <td>A/5 21171</td>\n",
       "      <td>7.2500</td>\n",
       "      <td>NaN</td>\n",
       "      <td>S</td>\n",
       "    </tr>\n",
       "    <tr>\n",
       "      <th>1</th>\n",
       "      <td>2</td>\n",
       "      <td>1</td>\n",
       "      <td>1</td>\n",
       "      <td>Cumings, Mrs. John Bradley (Florence Briggs Th...</td>\n",
       "      <td>female</td>\n",
       "      <td>38.0</td>\n",
       "      <td>1</td>\n",
       "      <td>0</td>\n",
       "      <td>PC 17599</td>\n",
       "      <td>71.2833</td>\n",
       "      <td>C85</td>\n",
       "      <td>C</td>\n",
       "    </tr>\n",
       "    <tr>\n",
       "      <th>2</th>\n",
       "      <td>3</td>\n",
       "      <td>1</td>\n",
       "      <td>3</td>\n",
       "      <td>Heikkinen, Miss. Laina</td>\n",
       "      <td>female</td>\n",
       "      <td>26.0</td>\n",
       "      <td>0</td>\n",
       "      <td>0</td>\n",
       "      <td>STON/O2. 3101282</td>\n",
       "      <td>7.9250</td>\n",
       "      <td>NaN</td>\n",
       "      <td>S</td>\n",
       "    </tr>\n",
       "    <tr>\n",
       "      <th>3</th>\n",
       "      <td>4</td>\n",
       "      <td>1</td>\n",
       "      <td>1</td>\n",
       "      <td>Futrelle, Mrs. Jacques Heath (Lily May Peel)</td>\n",
       "      <td>female</td>\n",
       "      <td>35.0</td>\n",
       "      <td>1</td>\n",
       "      <td>0</td>\n",
       "      <td>113803</td>\n",
       "      <td>53.1000</td>\n",
       "      <td>C123</td>\n",
       "      <td>S</td>\n",
       "    </tr>\n",
       "    <tr>\n",
       "      <th>4</th>\n",
       "      <td>5</td>\n",
       "      <td>0</td>\n",
       "      <td>3</td>\n",
       "      <td>Allen, Mr. William Henry</td>\n",
       "      <td>male</td>\n",
       "      <td>35.0</td>\n",
       "      <td>0</td>\n",
       "      <td>0</td>\n",
       "      <td>373450</td>\n",
       "      <td>8.0500</td>\n",
       "      <td>NaN</td>\n",
       "      <td>S</td>\n",
       "    </tr>\n",
       "  </tbody>\n",
       "</table>\n",
       "</div>"
      ],
      "text/plain": [
       "   PassengerId  Survived  Pclass  \\\n",
       "0            1         0       3   \n",
       "1            2         1       1   \n",
       "2            3         1       3   \n",
       "3            4         1       1   \n",
       "4            5         0       3   \n",
       "\n",
       "                                                Name     Sex   Age  SibSp  \\\n",
       "0                            Braund, Mr. Owen Harris    male  22.0      1   \n",
       "1  Cumings, Mrs. John Bradley (Florence Briggs Th...  female  38.0      1   \n",
       "2                             Heikkinen, Miss. Laina  female  26.0      0   \n",
       "3       Futrelle, Mrs. Jacques Heath (Lily May Peel)  female  35.0      1   \n",
       "4                           Allen, Mr. William Henry    male  35.0      0   \n",
       "\n",
       "   Parch            Ticket     Fare Cabin Embarked  \n",
       "0      0         A/5 21171   7.2500   NaN        S  \n",
       "1      0          PC 17599  71.2833   C85        C  \n",
       "2      0  STON/O2. 3101282   7.9250   NaN        S  \n",
       "3      0            113803  53.1000  C123        S  \n",
       "4      0            373450   8.0500   NaN        S  "
      ]
     },
     "execution_count": 4,
     "metadata": {},
     "output_type": "execute_result"
    }
   ],
   "source": [
    "#Vamos importas as bibliotecas que seram usadas ao longo da analise\n",
    "import pandas as pd\n",
    "import numpy as np\n",
    "import matplotlib.pyplot as plt\n",
    "\n",
    "#Abre arquivo contendo os dados do titanic e os coloca em um data frame\n",
    "titanic = pd.read_csv('titanic_data.csv')\n",
    "#Define o Id do passageiro como o index do dataframe\n",
    "titanic.set_index('PassengerId')\n",
    "titanic.head()"
   ]
  },
  {
   "cell_type": "code",
   "execution_count": 3,
   "metadata": {
    "collapsed": false
   },
   "outputs": [
    {
     "data": {
      "text/html": [
       "<div>\n",
       "<table border=\"1\" class=\"dataframe\">\n",
       "  <thead>\n",
       "    <tr style=\"text-align: right;\">\n",
       "      <th></th>\n",
       "      <th>PassengerId</th>\n",
       "      <th>Survived</th>\n",
       "      <th>Pclass</th>\n",
       "      <th>Age</th>\n",
       "      <th>SibSp</th>\n",
       "      <th>Parch</th>\n",
       "      <th>Fare</th>\n",
       "    </tr>\n",
       "  </thead>\n",
       "  <tbody>\n",
       "    <tr>\n",
       "      <th>count</th>\n",
       "      <td>891.000000</td>\n",
       "      <td>891.000000</td>\n",
       "      <td>891.000000</td>\n",
       "      <td>714.000000</td>\n",
       "      <td>891.000000</td>\n",
       "      <td>891.000000</td>\n",
       "      <td>891.000000</td>\n",
       "    </tr>\n",
       "    <tr>\n",
       "      <th>mean</th>\n",
       "      <td>446.000000</td>\n",
       "      <td>0.383838</td>\n",
       "      <td>2.308642</td>\n",
       "      <td>29.699118</td>\n",
       "      <td>0.523008</td>\n",
       "      <td>0.381594</td>\n",
       "      <td>32.204208</td>\n",
       "    </tr>\n",
       "    <tr>\n",
       "      <th>std</th>\n",
       "      <td>257.353842</td>\n",
       "      <td>0.486592</td>\n",
       "      <td>0.836071</td>\n",
       "      <td>14.526497</td>\n",
       "      <td>1.102743</td>\n",
       "      <td>0.806057</td>\n",
       "      <td>49.693429</td>\n",
       "    </tr>\n",
       "    <tr>\n",
       "      <th>min</th>\n",
       "      <td>1.000000</td>\n",
       "      <td>0.000000</td>\n",
       "      <td>1.000000</td>\n",
       "      <td>0.420000</td>\n",
       "      <td>0.000000</td>\n",
       "      <td>0.000000</td>\n",
       "      <td>0.000000</td>\n",
       "    </tr>\n",
       "    <tr>\n",
       "      <th>25%</th>\n",
       "      <td>223.500000</td>\n",
       "      <td>0.000000</td>\n",
       "      <td>2.000000</td>\n",
       "      <td>20.125000</td>\n",
       "      <td>0.000000</td>\n",
       "      <td>0.000000</td>\n",
       "      <td>7.910400</td>\n",
       "    </tr>\n",
       "    <tr>\n",
       "      <th>50%</th>\n",
       "      <td>446.000000</td>\n",
       "      <td>0.000000</td>\n",
       "      <td>3.000000</td>\n",
       "      <td>28.000000</td>\n",
       "      <td>0.000000</td>\n",
       "      <td>0.000000</td>\n",
       "      <td>14.454200</td>\n",
       "    </tr>\n",
       "    <tr>\n",
       "      <th>75%</th>\n",
       "      <td>668.500000</td>\n",
       "      <td>1.000000</td>\n",
       "      <td>3.000000</td>\n",
       "      <td>38.000000</td>\n",
       "      <td>1.000000</td>\n",
       "      <td>0.000000</td>\n",
       "      <td>31.000000</td>\n",
       "    </tr>\n",
       "    <tr>\n",
       "      <th>max</th>\n",
       "      <td>891.000000</td>\n",
       "      <td>1.000000</td>\n",
       "      <td>3.000000</td>\n",
       "      <td>80.000000</td>\n",
       "      <td>8.000000</td>\n",
       "      <td>6.000000</td>\n",
       "      <td>512.329200</td>\n",
       "    </tr>\n",
       "  </tbody>\n",
       "</table>\n",
       "</div>"
      ],
      "text/plain": [
       "       PassengerId    Survived      Pclass         Age       SibSp  \\\n",
       "count   891.000000  891.000000  891.000000  714.000000  891.000000   \n",
       "mean    446.000000    0.383838    2.308642   29.699118    0.523008   \n",
       "std     257.353842    0.486592    0.836071   14.526497    1.102743   \n",
       "min       1.000000    0.000000    1.000000    0.420000    0.000000   \n",
       "25%     223.500000    0.000000    2.000000   20.125000    0.000000   \n",
       "50%     446.000000    0.000000    3.000000   28.000000    0.000000   \n",
       "75%     668.500000    1.000000    3.000000   38.000000    1.000000   \n",
       "max     891.000000    1.000000    3.000000   80.000000    8.000000   \n",
       "\n",
       "            Parch        Fare  \n",
       "count  891.000000  891.000000  \n",
       "mean     0.381594   32.204208  \n",
       "std      0.806057   49.693429  \n",
       "min      0.000000    0.000000  \n",
       "25%      0.000000    7.910400  \n",
       "50%      0.000000   14.454200  \n",
       "75%      0.000000   31.000000  \n",
       "max      6.000000  512.329200  "
      ]
     },
     "execution_count": 3,
     "metadata": {},
     "output_type": "execute_result"
    }
   ],
   "source": [
    "#Exibindo algumas informações sobre os dados numericos\n",
    "titanic.describe()"
   ]
  },
  {
   "cell_type": "markdown",
   "metadata": {},
   "source": [
    "Com as informações acima já encontramos um problema, nos dados, nem todos os passageiros descritos possuem idade registrada, mais precisamente, 177 passageiros na base de dados, não possuem idade definida no conjunto de dados, o que pode nos atrapalhar na hora de definir se a idade dos tripulantes foi um fator importante para a sobrevivencia dos mesmos.\n",
    "\n",
    "Por tanto iremos realizar a limpeza dos dados.\n",
    "\n",
    "Bom, a primeira atitude que podemos usar para tentar corrigir os dados é verificar os titulos dos passageiros, dentre os titúlos existe o título 'Master' que de acordo com o livro \"Honor & Respect - The Official Guide to Names, \n",
    "Titles, and Forms of Address\" é a forma utilizada para se descrever crianças jovens demais (até 12 anos) para serem chamadas de 'Mister'.\n",
    "\n",
    "Por tanto vamos verificar todos os passageiros com titulo de Master."
   ]
  },
  {
   "cell_type": "code",
   "execution_count": 32,
   "metadata": {
    "collapsed": false
   },
   "outputs": [
    {
     "name": "stdout",
     "output_type": "stream",
     "text": [
      "Garoto mais velho:\n",
      "5.0\n"
     ]
    }
   ],
   "source": [
    "#Primeiro vamos criar um conjunto contendo apenas os passageiros com até 12 anos.\n",
    "group = (titanic.ix[:, ['Name', 'Age']])\n",
    "male_child = group[group['Name'].str.contains(\"Master\")]\n",
    "\n",
    "import math\n",
    "x2=0\n",
    "x = float('nan')\n",
    "for x in male_child['Age']:\n",
    "    x2=x+1\n",
    "\n",
    "#Vamos verificar a idade maxima das crianças desse conjunto de dados, para garantir que não há nenhum adulto no conjunto\n",
    "print(\"Garoto mais velho:\")\n",
    "print(x2)"
   ]
  },
  {
   "cell_type": "markdown",
   "metadata": {},
   "source": [
    "Existe uma lei maritma não oficial muito conhecida que em situações de desastre iminente, é dada prioridade de se salvar \n",
    "'Mulheres e crianças primeiro'. Vamos analisar se essa lei de fato influenciou na decisão de quem deveria ser resgatado durante o naufragio do Titanic."
   ]
  },
  {
   "cell_type": "markdown",
   "metadata": {},
   "source": [
    "# 1 - Gênero foi um fator determinante na decisão de quem deveria sobreviver no naufragio do Titanic?"
   ]
  },
  {
   "cell_type": "markdown",
   "metadata": {},
   "source": [
    "Para responde essa pergunta, vamos verificar a quantidade de sobreviventes do sexo masculino e comparar com a quantidade de sobreviventes do sexo feminino."
   ]
  },
  {
   "cell_type": "code",
   "execution_count": 41,
   "metadata": {
    "collapsed": true
   },
   "outputs": [],
   "source": [
    "#Funções que serão usadas ao longo da analise\n",
    "def genderDef(df, gender):\n",
    "    \"\"\"Função para retornar uma lista de passageiros de um determinado gênero\"\"\"\n",
    "    return df[df.Sex==gender]\n",
    "def removeColumns(df):\n",
    "    \"\"\"Função para remover colunas na hora da exibição de dados e gráficos\"\"\"\n",
    "    return df.ix[:, ['Survived','Sex']]\n",
    "def survival(df,condiction):\n",
    "    \"\"\"Função para retornar quantidade de sobreviventes ou de óbitos de um determinado grupo\"\"\"\n",
    "    return df[df.Survived==condiction].count()"
   ]
  },
  {
   "cell_type": "code",
   "execution_count": 49,
   "metadata": {
    "collapsed": false
   },
   "outputs": [
    {
     "data": {
      "text/html": [
       "<div>\n",
       "<table border=\"1\" class=\"dataframe\">\n",
       "  <thead>\n",
       "    <tr style=\"text-align: right;\">\n",
       "      <th></th>\n",
       "      <th></th>\n",
       "      <th>PassengerId</th>\n",
       "    </tr>\n",
       "    <tr>\n",
       "      <th>Sex</th>\n",
       "      <th>Survived</th>\n",
       "      <th></th>\n",
       "    </tr>\n",
       "  </thead>\n",
       "  <tbody>\n",
       "    <tr>\n",
       "      <th rowspan=\"2\" valign=\"top\">female</th>\n",
       "      <th>0</th>\n",
       "      <td>81</td>\n",
       "    </tr>\n",
       "    <tr>\n",
       "      <th>1</th>\n",
       "      <td>233</td>\n",
       "    </tr>\n",
       "    <tr>\n",
       "      <th rowspan=\"2\" valign=\"top\">male</th>\n",
       "      <th>0</th>\n",
       "      <td>468</td>\n",
       "    </tr>\n",
       "    <tr>\n",
       "      <th>1</th>\n",
       "      <td>109</td>\n",
       "    </tr>\n",
       "  </tbody>\n",
       "</table>\n",
       "</div>"
      ],
      "text/plain": [
       "                 PassengerId\n",
       "Sex    Survived             \n",
       "female 0                  81\n",
       "       1                 233\n",
       "male   0                 468\n",
       "       1                 109"
      ]
     },
     "execution_count": 49,
     "metadata": {},
     "output_type": "execute_result"
    }
   ],
   "source": [
    "#Vamos criar um conjunto de dados contendo o gênero, o identificador do passageiro e a informação se o mesmo sobreviveu ou não\n",
    "gender_by_survival=(titanic.ix[:, ['Sex', 'Survived', 'PassengerId']])\n",
    "\n",
    "#Em seguida vamos exibir os dados de forma organizada para exibir quantos passageiros de cada sexo sobreviveram\n",
    "gender_by_survival.groupby(['Sex','Survived']).count()"
   ]
  },
  {
   "cell_type": "code",
   "execution_count": 65,
   "metadata": {
    "collapsed": false
   },
   "outputs": [
    {
     "data": {
      "text/plain": [
       "<seaborn.axisgrid.FacetGrid at 0xf5f5b00>"
      ]
     },
     "execution_count": 65,
     "metadata": {},
     "output_type": "execute_result"
    }
   ],
   "source": [
    "import seaborn as sns\n",
    "sns.set(style=\"white\")\n",
    "\n",
    "# Make a range of years to show categories with no observations\n",
    "survived = np.arange(0, 1)\n",
    "\n",
    "# Draw a count plot to show the number of planets discovered each year\n",
    "g = sns.factorplot(x=\"Survived\", data=gender_by_survival, kind=\"count\",\n",
    "                   palette=\"BuPu\", size=6, aspect=1.5, order=survived)\n",
    "g.set_xticklabels(step=2)\n",
    "\n",
    "\n",
    "\n",
    "#%matplotlib inline\n",
    "#Graficos que demonstram quantidade de homens e mulheres que sobreviveram ou faleceram no naufragio\n",
    "#female_survival.hist(bins=3)\n",
    "#plt.xlabel(\"Não Sobreviveu=0.0 | Sobreviveu=1.0\")\n",
    "#plt.title(\"Sobreviventes do sexo feminino\")\n",
    "#male_survival.hist(bins=3)\n",
    "#plt.xlabel(\"Não Sobreviveu=0.0 | Sobreviveu=1.0\")\n",
    "#plt.title(\"Sobreviventes do sexo masculino\")"
   ]
  },
  {
   "cell_type": "markdown",
   "metadata": {},
   "source": [
    "Os dados acima demonstram que enquanto aproximadamente 74% das passageiras do sexo feminino sobreviveram, enquanto mais de 18% dos homens sobreviveram ao incidente.\n",
    "\n",
    "Isso indica uma forte correlação entre o gênero do passageiro e sua chance de sobrevivencia no desastre."
   ]
  },
  {
   "cell_type": "markdown",
   "metadata": {},
   "source": [
    "# 2 - Idade foi um fator determinante na decisão de quem deveria sobreviver no naufrágio do Titanic?"
   ]
  },
  {
   "cell_type": "raw",
   "metadata": {},
   "source": [
    "Para responder essa pergunta podemos abordar de duas formas, uma delas é observando a quantidade total de crianças a bordo do navio, no entando isso gera dois problemas:\n",
    "    1 - Nós não saberemos se o fator que impactou na escolha de resgate de algumas das crianças foi sua idade ou gênero.\n",
    "    2 - Nós não possuimos a idade de todos os tripulantes a bordo.\n",
    "\n",
    "Para resolver o primeiro problema, iremos analisar inicialmente apenas a idade dos passageiros do sexo masculino, assim saberemos se a idade dentro do grupo masculino foi de fato um fator importante na hora de escolher quem seria salvo.\n",
    "\n",
    "Quanto ao segundo problema, se considerarmos apenas o grupo de sexo masculino podemos resolvê-lo parcialmente.\n",
    "Ao observar os nomes dos passageiros, notamos que eles possuem um pronome de tratamento no campo. (Ex: Mr. Miss).\n",
    "\n",
    "Seguindo esse ponto, vamos considerar apenas os passageiros com até 12 anos como crianças, uma vez que na época era dificil determinar quem era considerado uma criança, a exemplo disso, houveram crianças de até 14 anos que participaram da primeira guerra (iniciada dois anos depois do naufrágio), o que demonstra que a percepção de alguém como criança era algo bem diferente do que é a percepção atual de menores de 18 anos.\n",
    "\n",
    "Fontes:\n",
    "http://www.formsofaddress.info/Children.html\n",
    "http://www.bbc.com/news/magazine-29934965"
   ]
  },
  {
   "cell_type": "code",
   "execution_count": 39,
   "metadata": {
    "collapsed": false
   },
   "outputs": [
    {
     "name": "stdout",
     "output_type": "stream",
     "text": [
      "Garoto mais velho:\n",
      "12.0\n",
      "                         Name  Survived   Age   Sex\n",
      "731  Hassan, Mr. Houssein G N         0  11.0  male\n",
      "\n",
      "Adulto mais jovem:\n",
      "14.0\n"
     ]
    }
   ],
   "source": [
    "#Primeiro vamos criar um conjunto contendo apenas os passageiros com até 12 anos.\n",
    "group = (titanic.ix[:, ['Name', 'Survived', 'Age', 'Sex']])\n",
    "male_child = group[group['Name'].str.contains(\"Master\")]\n",
    "\n",
    "#Vamos verificar a idade maxima das crianças desse conjunto de dados, para garantir que não há nenhum adulto no conjunto\n",
    "print(\"Garoto mais velho:\")\n",
    "print(male_child['Age'].max())\n",
    "    \n",
    "#Em seguida, criamos uma lista contendo os passageiros do sexo masculino que não possuem o titulo Master:\n",
    "not_male_child = (group[group[\"Name\"].str.contains('Master')==False])\n",
    "male_adult = genderDef(not_male_child,'male')\n",
    "\n",
    "#Vamos então verificar se há alguma criança com menos de 12 anos nesse conjunto de dados.\n",
    "print(male_adult[male_adult.Age<=12])\n",
    "\n",
    "#Encontramos um unica passageiro, vamos adicionar esse passageiro ao conjunto de crianças\n",
    "male_child_12years=male_child.merge(male_adult[male_adult.Age<=12],on=['Name','Survived','Age','Sex'],how='outer')\n",
    "\n",
    "#E vamos filtrar o conjunto de adultos homens para não conter mais este passageiro\n",
    "male_adult = (male_adult[male_adult.Age>12])\n",
    "\n",
    "#Vamos verificar a idade minima dos adultos desse conjunto de dados, para garantir que não há nenhuma criança com 12 anos\n",
    "#ou menos no conjunto\n",
    "print(\"\\nAdulto mais jovem:\")\n",
    "print(male_adult['Age'].min())"
   ]
  },
  {
   "cell_type": "code",
   "execution_count": 40,
   "metadata": {
    "collapsed": false
   },
   "outputs": [
    {
     "name": "stdout",
     "output_type": "stream",
     "text": [
      "Quantidades de crianças sobreviventes:\n",
      "Survived    23\n",
      "dtype: int64\n",
      "Quantidades de crianças que faleceram:\n",
      "Survived    17\n",
      "dtype: int64\n",
      "Quantidades de adultos sobreviventes:\n",
      "Survived    72\n",
      "dtype: int64\n",
      "Quantidades de adultos que faleceram:\n",
      "Survived    344\n",
      "dtype: int64\n",
      "        Survived\n",
      "count  40.000000\n",
      "mean    0.575000\n",
      "std     0.500641\n",
      "min     0.000000\n",
      "25%     0.000000\n",
      "50%     1.000000\n",
      "75%     1.000000\n",
      "max     1.000000\n",
      "         Survived\n",
      "count  416.000000\n",
      "mean     0.173077\n",
      "std      0.378769\n",
      "min      0.000000\n",
      "25%      0.000000\n",
      "50%      0.000000\n",
      "75%      0.000000\n",
      "max      1.000000\n"
     ]
    }
   ],
   "source": [
    "#Sabendo que os dados estão corretos, vamos remover as colunas 'Age' e 'Sex' dos dataframes\n",
    "male_child=removeColumns(male_child)\n",
    "male_adult=removeColumns(male_adult)\n",
    "\n",
    "#E vamos exibir os dados obtidos\n",
    "print(\"Quantidades de crianças sobreviventes:\")\n",
    "print(survival(male_child,True))\n",
    "print(\"Quantidades de crianças que faleceram:\")\n",
    "print(survival(male_child,False))\n",
    "print(\"Quantidades de adultos sobreviventes:\")\n",
    "print(survival(male_adult,True))\n",
    "print(\"Quantidades de adultos que faleceram:\")\n",
    "print(survival(male_adult,False))\n",
    "\n",
    "#Exibindo alguns dados\n",
    "print(male_child.describe())\n",
    "print(male_adult.describe())"
   ]
  },
  {
   "cell_type": "code",
   "execution_count": 42,
   "metadata": {
    "collapsed": false
   },
   "outputs": [
    {
     "data": {
      "text/plain": [
       "<matplotlib.text.Text at 0xc04ed70>"
      ]
     },
     "execution_count": 42,
     "metadata": {},
     "output_type": "execute_result"
    },
    {
     "data": {
      "image/png": "[encoded data removed]",
      "text/plain": [
       "<matplotlib.figure.Figure at 0xbfffd30>"
      ]
     },
     "metadata": {},
     "output_type": "display_data"
    },
    {
     "data": {
      "image/png": "[encoded data removed]",
      "text/plain": [
       "<matplotlib.figure.Figure at 0xc030790>"
      ]
     },
     "metadata": {},
     "output_type": "display_data"
    }
   ],
   "source": [
    "#Graficos que demonstram quantidade de homens adultos e crianças que sobreviveram ou faleceram no naufragio\n",
    "male_child.hist(bins=3)\n",
    "plt.xlabel(\"Não Sobreviveu=0.0 | Sobreviveu=1.0\")\n",
    "plt.title(\"Sobreviventes crianças do sexo masculino\")\n",
    "male_adult.hist(bins=3)\n",
    "plt.xlabel(\"Não Sobreviveu=0.0 | Sobreviveu=1.0\")\n",
    "plt.title(\"Sobreviventes adultos do sexo masculino\")"
   ]
  },
  {
   "cell_type": "markdown",
   "metadata": {},
   "source": [
    "Em posse dos dados, verificamos que em torno de 57,5% das crianças do sexo masculino sobreviveram, enquanto apenas cerca 17% dos adultos do sexo masculino sobreviveram.\n",
    "\n",
    "O que indica que há uma grande correlação que pode ser atribuida ao fator idade."
   ]
  },
  {
   "cell_type": "markdown",
   "metadata": {},
   "source": [
    "Também podemos aprofundar essa verificação nas crianças do sexo feminino, embora não tenhamos dados suficientes para ter certeza se as crianças do sexo feminino tiveram maior taxa de sobrevivencia do que as mulheres adultas, podemos fazer uma estimativa razoavel considerando as informações que temos."
   ]
  },
  {
   "cell_type": "code",
   "execution_count": 43,
   "metadata": {
    "collapsed": false
   },
   "outputs": [
    {
     "name": "stdout",
     "output_type": "stream",
     "text": [
      "Quantidades de crianças sobreviventes:\n",
      "Survived    19\n",
      "dtype: int64\n",
      "Quantidades de crianças que faleceram:\n",
      "Survived    13\n",
      "dtype: int64\n",
      "Quantidades de adultas sobreviventes:\n",
      "Survived    178\n",
      "dtype: int64\n",
      "Quantidades de adultas que faleceram:\n",
      "Survived    51\n",
      "dtype: int64\n",
      "        Survived\n",
      "count  32.000000\n",
      "mean    0.593750\n",
      "std     0.498991\n",
      "min     0.000000\n",
      "25%     0.000000\n",
      "50%     1.000000\n",
      "75%     1.000000\n",
      "max     1.000000\n",
      "         Survived\n",
      "count  229.000000\n",
      "mean     0.777293\n",
      "std      0.416975\n",
      "min      0.000000\n",
      "25%      1.000000\n",
      "50%      1.000000\n",
      "75%      1.000000\n",
      "max      1.000000\n"
     ]
    }
   ],
   "source": [
    "#Primeiro vamos criar uma lista contendo apenas as passageiras do sexo feminino menores de 12 anos.\n",
    "female_child = group[group.Age<=12]\n",
    "female_child = genderDef(female_child,'female')\n",
    "\n",
    "#Em seguida, criar uma lista com as passageiras maiores de 12 anos.\n",
    "female_adult = group[group.Age>12]\n",
    "female_adult = genderDef(female_adult,'female')\n",
    "\n",
    "#Vamos remover as colunas desnecessárias do dataframes\n",
    "female_child=removeColumns(female_child)\n",
    "female_adult=removeColumns(female_adult)\n",
    "\n",
    "#E vamos exibir os dados obtidos\n",
    "print(\"Quantidades de crianças sobreviventes:\")\n",
    "print(survival(female_child,True))\n",
    "print(\"Quantidades de crianças que faleceram:\")\n",
    "print(survival(female_child,False))\n",
    "print(\"Quantidades de adultas sobreviventes:\")\n",
    "print(survival(female_adult,True))\n",
    "print(\"Quantidades de adultas que faleceram:\")\n",
    "print(survival(female_adult,False))\n",
    "\n",
    "#Exibindo alguns dados\n",
    "print(female_child.describe())\n",
    "print(female_adult.describe())"
   ]
  },
  {
   "cell_type": "code",
   "execution_count": 44,
   "metadata": {
    "collapsed": false
   },
   "outputs": [
    {
     "data": {
      "text/plain": [
       "<matplotlib.text.Text at 0xc0d30b0>"
      ]
     },
     "execution_count": 44,
     "metadata": {},
     "output_type": "execute_result"
    },
    {
     "data": {
      "image/png": "[encoded data removed]",
      "text/plain": [
       "<matplotlib.figure.Figure at 0xc0855f0>"
      ]
     },
     "metadata": {},
     "output_type": "display_data"
    },
    {
     "data": {
      "image/png": "[encoded data removed]",
      "text/plain": [
       "<matplotlib.figure.Figure at 0xc0b29d0>"
      ]
     },
     "metadata": {},
     "output_type": "display_data"
    }
   ],
   "source": [
    "#Graficos que demonstram quantidade de mulheres adultas e crianças que sobreviveram ou faleceram no naufragio\n",
    "\n",
    "female_child.hist(bins=3)\n",
    "plt.xlabel(\"Não Sobreviveu=0.0 | Sobreviveu=1.0\")\n",
    "plt.title(\"Sobreviventes crianças do sexo feminino\")\n",
    "female_adult.hist(bins=3)\n",
    "plt.xlabel(\"Não Sobreviveu=0.0 | Sobreviveu=1.0\")\n",
    "plt.title(\"Sobreviventes adultas do sexo feminino\")"
   ]
  },
  {
   "cell_type": "markdown",
   "metadata": {},
   "source": [
    "Analisando estes dados podemos concluir que cerca de 59% das passageiras crianças do sexo feminino sobreviveram, enquanto mais de 77% das mulheres adultas do sexo feminino sobreviveram ao incidente, o que não indica que o fator da idade tenha sido tão determinante para a sobrevivencia das mulheres durante o naufrágio como foi para os homens.\n",
    "\n",
    "Estas análises apenas indicam que a máxima \"Mulheres e crianças primeiro\" foi de fato seguido durante o naufragio do Titanic, sobretudo no que tange as crianças do sexo masculino.\n",
    "\n",
    "É notavel que houve uma grande diferença na taxa de sobrêvivencia entre homens e mulheres, porém, quando comparamos a taxa de sobrevivencia entre crianças de ambos os gêneros, a diferença é extremamente pequena.\n",
    "\n",
    "Isso indica que ao se tratarem de crianças, ambos os generos tiveram preferência similar na hora de se definir quem seria salvo."
   ]
  },
  {
   "cell_type": "markdown",
   "metadata": {},
   "source": [
    "# 3 - Classe social foi um fator determinante no momento de se decidir quem teria maiores chances de sobrevivência?"
   ]
  },
  {
   "cell_type": "markdown",
   "metadata": {},
   "source": [
    "Para responder essa pergunta vamos analisar a taxa de sobrevivência em cada uma das três classes de passageiros (1ª, 2ª e 3ª).\n",
    "No entanto, as correlações verificadas podem não indicar casualidade, uma vez que existem fortes indicações que gênero e idade são um fator importante para sobrevivência.\n",
    "\n",
    "Por tanto vamos realizar uma análise geral, e em seguida realizaremos a análise considerando os gêneros masculino (que possuiu o menor número de sobreviventes) e feminino (que possuiu o maior número de sobreviventes) para verificar a importância deste fator."
   ]
  },
  {
   "cell_type": "code",
   "execution_count": 45,
   "metadata": {
    "collapsed": false
   },
   "outputs": [
    {
     "name": "stdout",
     "output_type": "stream",
     "text": [
      "Quantidades de passageiros da primeira classe sobreviventes:\n",
      "Survived    136\n",
      "dtype: int64\n",
      "Quantidades de passageiros da primeira classe que faleceram:\n",
      "Survived    80\n",
      "dtype: int64\n",
      "Quantidades de passageiros da segunda classe sobreviventes:\n",
      "Survived    87\n",
      "dtype: int64\n",
      "Quantidades de passageiros da segunda classe que faleceram:\n",
      "Survived    97\n",
      "dtype: int64\n",
      "Quantidades de passageiros da terceira classe sobreviventes:\n",
      "Survived    119\n",
      "dtype: int64\n",
      "Quantidades de passageiros da terceira classe que faleceram:\n",
      "Survived    372\n",
      "dtype: int64\n",
      "         Survived\n",
      "count  216.000000\n",
      "mean     0.629630\n",
      "std      0.484026\n",
      "min      0.000000\n",
      "25%      0.000000\n",
      "50%      1.000000\n",
      "75%      1.000000\n",
      "max      1.000000\n",
      "         Survived\n",
      "count  184.000000\n",
      "mean     0.472826\n",
      "std      0.500623\n",
      "min      0.000000\n",
      "25%      0.000000\n",
      "50%      0.000000\n",
      "75%      1.000000\n",
      "max      1.000000\n",
      "         Survived\n",
      "count  491.000000\n",
      "mean     0.242363\n",
      "std      0.428949\n",
      "min      0.000000\n",
      "25%      0.000000\n",
      "50%      0.000000\n",
      "75%      0.000000\n",
      "max      1.000000\n"
     ]
    }
   ],
   "source": [
    "#Primeiro vamos criar dataframes para cada uma das classes\n",
    "class_number = (titanic.ix[:, ['Survived', 'Pclass', 'Sex']])\n",
    "first_class = class_number[class_number.Pclass == 1]\n",
    "second_class = class_number[class_number.Pclass == 2]\n",
    "third_class = class_number[class_number.Pclass == 3]\n",
    "\n",
    "#Em seguida vamos preparar os conjuntos de dados divididos por genero\n",
    "first_class_male = genderDef(first_class,'male')\n",
    "first_class_female = genderDef(first_class,'female')\n",
    "second_class_male = genderDef(second_class,'male')\n",
    "second_class_female = genderDef(second_class,'female')\n",
    "third_class_male = genderDef(third_class,'male')\n",
    "third_class_female = genderDef(third_class,'female')\n",
    "\n",
    "#Vamos remover as colunas desnecessárias dos dataframes\n",
    "first_class=removeColumns(first_class)\n",
    "first_class_male=removeColumns(first_class_male)\n",
    "first_class_female=removeColumns(first_class_female)\n",
    "second_class=removeColumns(second_class)\n",
    "second_class_male=removeColumns(second_class_male)\n",
    "second_class_female=removeColumns(second_class_female)\n",
    "third_class=removeColumns(third_class)\n",
    "third_class_male=removeColumns(third_class_male)\n",
    "third_class_female=removeColumns(third_class_female)\n",
    "\n",
    "#E vamos exibir os dados obtidos dos passageiros em geral\n",
    "print(\"Quantidades de passageiros da primeira classe sobreviventes:\")\n",
    "print(survival(first_class,True))\n",
    "print(\"Quantidades de passageiros da primeira classe que faleceram:\")\n",
    "print(survival(first_class,False))\n",
    "print(\"Quantidades de passageiros da segunda classe sobreviventes:\")\n",
    "print(survival(second_class,True))\n",
    "print(\"Quantidades de passageiros da segunda classe que faleceram:\")\n",
    "print(survival(second_class,False))\n",
    "print(\"Quantidades de passageiros da terceira classe sobreviventes:\")\n",
    "print(survival(third_class,True))\n",
    "print(\"Quantidades de passageiros da terceira classe que faleceram:\")\n",
    "print(survival(third_class,False))\n",
    "\n",
    "#Exibindo alguns dados\n",
    "print(first_class.describe())\n",
    "print(second_class.describe())\n",
    "print(third_class.describe())"
   ]
  },
  {
   "cell_type": "code",
   "execution_count": 46,
   "metadata": {
    "collapsed": false
   },
   "outputs": [
    {
     "data": {
      "text/plain": [
       "<matplotlib.text.Text at 0xbed00f0>"
      ]
     },
     "execution_count": 46,
     "metadata": {},
     "output_type": "execute_result"
    },
    {
     "data": {
      "image/png": "[encoded data removed]",
      "text/plain": [
       "<matplotlib.figure.Figure at 0xc117d30>"
      ]
     },
     "metadata": {},
     "output_type": "display_data"
    },
    {
     "data": {
      "image/png": "[encoded data removed]",
      "text/plain": [
       "<matplotlib.figure.Figure at 0xc0855f0>"
      ]
     },
     "metadata": {},
     "output_type": "display_data"
    },
    {
     "data": {
      "image/png": "[encoded data removed]",
      "text/plain": [
       "<matplotlib.figure.Figure at 0xc0a5570>"
      ]
     },
     "metadata": {},
     "output_type": "display_data"
    }
   ],
   "source": [
    "#E vamos exibir os graficos que demonstram quantidade de passageiros de cada classe que faleceram no naufragio\n",
    "first_class.hist(bins=3)\n",
    "plt.xlabel(\"Não Sobreviveu=0.0 | Sobreviveu=1.0\")\n",
    "plt.title(\"Sobreviventes crianças do sexo feminino\")\n",
    "second_class.hist(bins=3)\n",
    "plt.xlabel(\"Não Sobreviveu=0.0 | Sobreviveu=1.0\")\n",
    "plt.title(\"Sobreviventes crianças do sexo feminino\")\n",
    "third_class.hist(bins=3)\n",
    "plt.xlabel(\"Não Sobreviveu=0.0 | Sobreviveu=1.0\")\n",
    "plt.title(\"Sobreviventes crianças do sexo feminino\")"
   ]
  },
  {
   "cell_type": "markdown",
   "metadata": {},
   "source": [
    "Ao observar a primeira classe notamos que quase 63% dos passageiros sobreviveram, em comparação com 47% da segunda classe e apenas 24% da terceira classe.\n",
    "\n",
    "O que é um forte indicativo de que uma classe social mais alta aumentou as chances de sobrevivência dos passageiros.\n",
    "\n",
    "Vamos analisar os dados divididos por gênero."
   ]
  },
  {
   "cell_type": "code",
   "execution_count": 49,
   "metadata": {
    "collapsed": false
   },
   "outputs": [
    {
     "name": "stdout",
     "output_type": "stream",
     "text": [
      "Quantidades de passageiros do sexo masculino da primeira classe sobreviventes:\n",
      "Survived    45\n",
      "dtype: int64\n",
      "Quantidades de passageiros do sexo masculino da primeira classe que faleceram:\n",
      "Survived    77\n",
      "dtype: int64\n",
      "Quantidades de passageiras do sexo feminino da primeira classe sobreviventes:\n",
      "Survived    91\n",
      "dtype: int64\n",
      "Quantidades de passageiras do sexo feminino da primeira classe que faleceram:\n",
      "Survived    3\n",
      "dtype: int64\n",
      "         Survived\n",
      "count  122.000000\n",
      "mean     0.368852\n",
      "std      0.484484\n",
      "min      0.000000\n",
      "25%      0.000000\n",
      "50%      0.000000\n",
      "75%      1.000000\n",
      "max      1.000000\n",
      "        Survived\n",
      "count  94.000000\n",
      "mean    0.968085\n",
      "std     0.176716\n",
      "min     0.000000\n",
      "25%     1.000000\n",
      "50%     1.000000\n",
      "75%     1.000000\n",
      "max     1.000000\n"
     ]
    }
   ],
   "source": [
    "print(\"Quantidades de passageiros do sexo masculino da primeira classe sobreviventes:\")\n",
    "print(survival(first_class_male,True))\n",
    "print(\"Quantidades de passageiros do sexo masculino da primeira classe que faleceram:\")\n",
    "print(survival(first_class_male,False))\n",
    "print(\"Quantidades de passageiras do sexo feminino da primeira classe sobreviventes:\")\n",
    "print(survival(first_class_female,True))\n",
    "print(\"Quantidades de passageiras do sexo feminino da primeira classe que faleceram:\")\n",
    "print(survival(first_class_female,False))\n",
    "\n",
    "#Exibindo alguns dados\n",
    "print(first_class_male.describe())\n",
    "print(first_class_female.describe())"
   ]
  },
  {
   "cell_type": "code",
   "execution_count": 50,
   "metadata": {
    "collapsed": false
   },
   "outputs": [
    {
     "data": {
      "text/plain": [
       "<matplotlib.text.Text at 0xbf71d10>"
      ]
     },
     "execution_count": 50,
     "metadata": {},
     "output_type": "execute_result"
    },
    {
     "data": {
      "image/png": "[encoded data removed]",
      "text/plain": [
       "<matplotlib.figure.Figure at 0xae64910>"
      ]
     },
     "metadata": {},
     "output_type": "display_data"
    },
    {
     "data": {
      "image/png": "[encoded data removed]",
      "text/plain": [
       "<matplotlib.figure.Figure at 0xbf53930>"
      ]
     },
     "metadata": {},
     "output_type": "display_data"
    }
   ],
   "source": [
    "first_class_male.hist(bins=3)\n",
    "plt.xlabel(\"Não Sobreviveu=0.0 | Sobreviveu=1.0\")\n",
    "plt.title(\"Sobreviventes crianças do sexo feminino\")\n",
    "first_class_female.hist(bins=3)\n",
    "plt.xlabel(\"Não Sobreviveu=0.0 | Sobreviveu=1.0\")\n",
    "plt.title(\"Sobreviventes crianças do sexo feminino\")"
   ]
  },
  {
   "cell_type": "markdown",
   "metadata": {},
   "source": [
    "Quase 37% dos passageiros da primeira classe do sexo masculino sobreviveram, e quase 97% das passageiras da primeira classe do sexo feminino sobreviveram, fato que, dadas as análises anteriores indica que este é o grupo que teve maior taxa de sobrevivencia no naufragio."
   ]
  },
  {
   "cell_type": "code",
   "execution_count": 51,
   "metadata": {
    "collapsed": false
   },
   "outputs": [
    {
     "name": "stdout",
     "output_type": "stream",
     "text": [
      "Quantidades de passageiros do sexo masculino da primeira classe sobreviventes:\n",
      "Survived    17\n",
      "dtype: int64\n",
      "Quantidades de passageiros do sexo masculino da primeira classe que faleceram:\n",
      "Survived    91\n",
      "dtype: int64\n",
      "Quantidades de passageiras do sexo feminino da primeira classe sobreviventes:\n",
      "Survived    70\n",
      "dtype: int64\n",
      "Quantidades de passageiras do sexo feminino da primeira classe que faleceram:\n",
      "Survived    6\n",
      "dtype: int64\n",
      "         Survived\n",
      "count  108.000000\n",
      "mean     0.157407\n",
      "std      0.365882\n",
      "min      0.000000\n",
      "25%      0.000000\n",
      "50%      0.000000\n",
      "75%      0.000000\n",
      "max      1.000000\n",
      "        Survived\n",
      "count  76.000000\n",
      "mean    0.921053\n",
      "std     0.271448\n",
      "min     0.000000\n",
      "25%     1.000000\n",
      "50%     1.000000\n",
      "75%     1.000000\n",
      "max     1.000000\n"
     ]
    }
   ],
   "source": [
    "print(\"Quantidades de passageiros do sexo masculino da primeira classe sobreviventes:\")\n",
    "print(survival(second_class_male,True))\n",
    "print(\"Quantidades de passageiros do sexo masculino da primeira classe que faleceram:\")\n",
    "print(survival(second_class_male,False))\n",
    "print(\"Quantidades de passageiras do sexo feminino da primeira classe sobreviventes:\")\n",
    "print(survival(second_class_female,True))\n",
    "print(\"Quantidades de passageiras do sexo feminino da primeira classe que faleceram:\")\n",
    "print(survival(second_class_female,False))\n",
    "\n",
    "#Exibindo alguns dados\n",
    "print(second_class_male.describe())\n",
    "print(second_class_female.describe())"
   ]
  },
  {
   "cell_type": "code",
   "execution_count": 52,
   "metadata": {
    "collapsed": false
   },
   "outputs": [
    {
     "data": {
      "text/plain": [
       "<matplotlib.text.Text at 0xc162150>"
      ]
     },
     "execution_count": 52,
     "metadata": {},
     "output_type": "execute_result"
    },
    {
     "data": {
      "image/png": "[encoded data removed]",
      "text/plain": [
       "<matplotlib.figure.Figure at 0xab75310>"
      ]
     },
     "metadata": {},
     "output_type": "display_data"
    },
    {
     "data": {
      "image/png": "[encoded data removed]",
      "text/plain": [
       "<matplotlib.figure.Figure at 0xc1444d0>"
      ]
     },
     "metadata": {},
     "output_type": "display_data"
    }
   ],
   "source": [
    "second_class_male.hist(bins=3)\n",
    "plt.xlabel(\"Não Sobreviveu=0.0 | Sobreviveu=1.0\")\n",
    "plt.title(\"Sobreviventes crianças do sexo feminino\")\n",
    "second_class_female.hist(bins=3)\n",
    "plt.xlabel(\"Não Sobreviveu=0.0 | Sobreviveu=1.0\")\n",
    "plt.title(\"Sobreviventes crianças do sexo feminino\")"
   ]
  },
  {
   "cell_type": "markdown",
   "metadata": {},
   "source": [
    "Enquanto apenas pouco mais do que 15% dos passageiros de sexo masculino da segunda classe sobreviveram, cerca de 92% das passageiras do sexo feminino da mesma classe sobreviveram.\n",
    "\n",
    "O que segue indicando que classe social pode ter sido um fator influenciador, porém não determinante como foi o gênero."
   ]
  },
  {
   "cell_type": "code",
   "execution_count": 53,
   "metadata": {
    "collapsed": false
   },
   "outputs": [
    {
     "name": "stdout",
     "output_type": "stream",
     "text": [
      "Quantidades de passageiros do sexo masculino da primeira classe sobreviventes:\n",
      "Survived    47\n",
      "dtype: int64\n",
      "Quantidades de passageiros do sexo masculino da primeira classe que faleceram:\n",
      "Survived    300\n",
      "dtype: int64\n",
      "Quantidades de passageiras do sexo feminino da primeira classe sobreviventes:\n",
      "Survived    72\n",
      "dtype: int64\n",
      "Quantidades de passageiras do sexo feminino da primeira classe que faleceram:\n",
      "Survived    72\n",
      "dtype: int64\n",
      "         Survived\n",
      "count  347.000000\n",
      "mean     0.135447\n",
      "std      0.342694\n",
      "min      0.000000\n",
      "25%      0.000000\n",
      "50%      0.000000\n",
      "75%      0.000000\n",
      "max      1.000000\n",
      "         Survived\n",
      "count  144.000000\n",
      "mean     0.500000\n",
      "std      0.501745\n",
      "min      0.000000\n",
      "25%      0.000000\n",
      "50%      0.500000\n",
      "75%      1.000000\n",
      "max      1.000000\n"
     ]
    }
   ],
   "source": [
    "print(\"Quantidades de passageiros do sexo masculino da primeira classe sobreviventes:\")\n",
    "print(survival(third_class_male,True))\n",
    "print(\"Quantidades de passageiros do sexo masculino da primeira classe que faleceram:\")\n",
    "print(survival(third_class_male,False))\n",
    "print(\"Quantidades de passageiras do sexo feminino da primeira classe sobreviventes:\")\n",
    "print(survival(third_class_female,True))\n",
    "print(\"Quantidades de passageiras do sexo feminino da primeira classe que faleceram:\")\n",
    "print(survival(third_class_female,False))\n",
    "\n",
    "#Exibindo alguns dados\n",
    "print(third_class_male.describe())\n",
    "print(third_class_female.describe())"
   ]
  },
  {
   "cell_type": "code",
   "execution_count": 54,
   "metadata": {
    "collapsed": false
   },
   "outputs": [
    {
     "data": {
      "text/plain": [
       "<matplotlib.text.Text at 0xc1e6050>"
      ]
     },
     "execution_count": 54,
     "metadata": {},
     "output_type": "execute_result"
    },
    {
     "data": {
      "image/png": "[encoded data removed]",
      "text/plain": [
       "<matplotlib.figure.Figure at 0xc198610>"
      ]
     },
     "metadata": {},
     "output_type": "display_data"
    },
    {
     "data": {
      "image/png": "[encoded data removed]",
      "text/plain": [
       "<matplotlib.figure.Figure at 0xc1c5890>"
      ]
     },
     "metadata": {},
     "output_type": "display_data"
    }
   ],
   "source": [
    "third_class_male.hist(bins=3)\n",
    "plt.xlabel(\"Não Sobreviveu=0.0 | Sobreviveu=1.0\")\n",
    "plt.title(\"Sobreviventes crianças do sexo feminino\")\n",
    "third_class_female.hist(bins=3)\n",
    "plt.xlabel(\"Não Sobreviveu=0.0 | Sobreviveu=1.0\")\n",
    "plt.title(\"Sobreviventes crianças do sexo feminino\")"
   ]
  },
  {
   "cell_type": "markdown",
   "metadata": {},
   "source": [
    "Por fim, enquanto pouco mais do que 13% dos passageiros de sexo masculino da terceira classe sobreviveram, 50% das mulheres sobreviveram ao incidente.\n",
    "\n",
    "Este dado é importante, pois pela primeira vez classe social se demonstra como um fator tão determinante quanto gênero para a taxa de sobrevivência dos passageiros, uma vez que a quantidade de mulheres sobreviventes da terceira classe é significativamente menor do que a das demais classes."
   ]
  },
  {
   "cell_type": "markdown",
   "metadata": {},
   "source": [
    "# Conclusão"
   ]
  },
  {
   "cell_type": "markdown",
   "metadata": {},
   "source": [
    "Com os dados verificados e apresentados podemos afirmar que conforme a lei maritma, mulheres e crianças foram os grupos que tiveram maior preferência nos momentos de resgate e evacuação do navio.\n",
    "\n",
    "Ao responder a primeira questão identificamos que embora a maior parte dos passageiros presentes no navio fossem homens, a maior parte dos sobreviventes eram mulheres.\n",
    "\n",
    "Ao responder a segunda questão notamos que a idade foi um fator que favoreceu principalmente no caso das crianças do sexo masculino, que tiveram uma taxa de sobrevivência muito maior do que a dos adultos do sexo masculino, e muito próxima da taxa de sobrevivência de crianças do sexo feminino.\n",
    "\n",
    "Por fim com a terceira questão podemos concluir que dentro destes grupos, a classe social foi um fator que favoreceu significativamente os membros mais ricos (1ª e 2ª classe) em detrimento dos mais pobres (3ª classe), ainda que não tenha sido um fator tão determinante quanto os anteriormente mencionados.\n",
    "\n",
    "Mesmo assim, as mulheres mais ricas tiveram uma taxa de sobrevivência que beirou 100%, enquanto as mulheres mais pobres tiveram uma taxa de sobrevivencia de apenas 50%.\n",
    "\n",
    "É possível por tanto concluir que houveram diversos fatores que influenciaram nas chances de sobrevivência de cada passageiro, mas que alguns dos cliches conhecidos do cinema, e das normas não oficiais da navegação estiveram de fato presente no naufrágio do Titanic."
   ]
  }
 ],
 "metadata": {
  "anaconda-cloud": {},
  "kernelspec": {
   "display_name": "Python [conda root]",
   "language": "python",
   "name": "conda-root-py"
  },
  "language_info": {
   "codemirror_mode": {
    "name": "ipython",
    "version": 2
   },
   "file_extension": ".py",
   "mimetype": "text/x-python",
   "name": "python",
   "nbconvert_exporter": "python",
   "pygments_lexer": "ipython2",
   "version": "2.7.12"
  }
 },
 "nbformat": 4,
 "nbformat_minor": 1
}
